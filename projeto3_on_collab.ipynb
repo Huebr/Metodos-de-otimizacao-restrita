{
  "nbformat": 4,
  "nbformat_minor": 0,
  "metadata": {
    "accelerator": "GPU",
    "colab": {
      "name": "projeto3_on_collab.ipynb",
      "provenance": [],
      "collapsed_sections": [],
      "include_colab_link": true
    },
    "kernelspec": {
      "display_name": "Julia 1.4",
      "language": "julia",
      "name": "julia-1.4"
    },
    "language_info": {
      "file_extension": ".jl",
      "mimetype": "application/julia",
      "name": "julia",
      "version": "1.4.2"
    }
  },
  "cells": [
    {
      "cell_type": "markdown",
      "metadata": {
        "id": "view-in-github",
        "colab_type": "text"
      },
      "source": [
        "<a href=\"https://colab.research.google.com/github/Huebr/Metodos-de-otimizacao-restrita/blob/main/projeto3_on_collab.ipynb\" target=\"_parent\"><img src=\"https://colab.research.google.com/assets/colab-badge.svg\" alt=\"Open In Colab\"/></a>"
      ]
    },
    {
      "cell_type": "markdown",
      "metadata": {
        "id": "qBRC3qiA8rC7"
      },
      "source": [
        "#Programação Não Linear - Terceiro Projeto Computacional\n",
        "**Universidade Federal do Ceará**\n",
        "Professor: RICARDO COELHO\n",
        "Alunos: MARCIO BARROS OLIVEIRA DE SOUZA, \n",
        "        PAULINO CARDIAL RABELO e \n",
        "        PEDRO JORGE DE ABREU FIGUEREDO"
      ]
    },
    {
      "cell_type": "markdown",
      "metadata": {
        "id": "swQwKFem9zT3"
      },
      "source": [
        "#Introdução\n",
        "\n",
        "Este trabalho consiste no desenvolvimento computacional de métodos de otimização não linear restrita. Dentre eles apresentamos o Método de Barreira e Penalidade. Primeiramente, apresentamos um pouco sobre o ambiente computacional usado. Em seguida, mostramos a implementação dos métodos em conjunto com um breve resumo de cada um deles. Nas seções \"Modo de Usar\" e \"Parâmetros dos Métodos\" mostramos como chamar os métodos e quais os parâmetros implementados. Por fim, fazemos um análise simples encima de um conjunto de dados disponibilizados para o desenvolvimento desta atividade.\n",
        "\n",
        "\n",
        "#Instalação Ambiente\n",
        "\n",
        "No desenvolvimento desta atividade íremos utilizar Julia como linguagem de implementação pelo seu facil uso e vasto conjunto de bibliotecas que oferecem suporte a otimização matemática. Para facilitar a distribuição fornecemos um notebook Jupyter que colocamos pode ser usado no Colab Google. Veja que facilmente podemos exportar o mesmo para o uso local.\n",
        "\n",
        "Para podermos executar corretamente no ambiente Colab temos que executar a seguinte célula e reiniciar a aba do navegador aplicando \"F5\" quando a célula terminar de instalar o kernel Julia. No caso do uso local basta ter a aplicação Jupyter Notebook (,no Windows Anaconda) e uma distribuição Julia 1.4.2 ou mais recente."
      ]
    },
    {
      "cell_type": "code",
      "metadata": {
        "id": "PMGwZ7aFJL8Y",
        "outputId": "fccd0105-aa4d-44ae-d592-6b856d64b743",
        "colab": {
          "base_uri": "https://localhost:8080/"
        }
      },
      "source": [
        "# Installation cell\n",
        "%%shell\n",
        "if ! command -v julia 3>&1 > /dev/null\n",
        "then\n",
        "    wget 'https://julialang-s3.julialang.org/bin/linux/x64/1.4/julia-1.4.2-linux-x86_64.tar.gz' \\\n",
        "        -O /tmp/julia.tar.gz\n",
        "    tar -x -f /tmp/julia.tar.gz -C /usr/local --strip-components 1\n",
        "    rm /tmp/julia.tar.gz\n",
        "fi\n",
        "julia -e 'using Pkg; pkg\"add IJulia; precompile;\"'\n",
        "echo 'Done'"
      ],
      "execution_count": null,
      "outputs": [
        {
          "output_type": "stream",
          "text": [
            "--2020-10-30 18:42:57--  https://julialang-s3.julialang.org/bin/linux/x64/1.4/julia-1.4.2-linux-x86_64.tar.gz\n",
            "Resolving julialang-s3.julialang.org (julialang-s3.julialang.org)... 151.101.2.49, 151.101.66.49, 151.101.130.49, ...\n",
            "Connecting to julialang-s3.julialang.org (julialang-s3.julialang.org)|151.101.2.49|:443... connected.\n",
            "HTTP request sent, awaiting response... 302 gce internal redirect trigger\n",
            "Location: https://storage.googleapis.com/julialang2/bin/linux/x64/1.4/julia-1.4.2-linux-x86_64.tar.gz [following]\n",
            "--2020-10-30 18:42:57--  https://storage.googleapis.com/julialang2/bin/linux/x64/1.4/julia-1.4.2-linux-x86_64.tar.gz\n",
            "Resolving storage.googleapis.com (storage.googleapis.com)... 142.250.73.208, 172.253.63.128, 142.250.31.128, ...\n",
            "Connecting to storage.googleapis.com (storage.googleapis.com)|142.250.73.208|:443... connected.\n",
            "HTTP request sent, awaiting response... 200 OK\n",
            "Length: 99093958 (95M) [application/x-tar]\n",
            "Saving to: ‘/tmp/julia.tar.gz’\n",
            "\n",
            "/tmp/julia.tar.gz   100%[===================>]  94.50M   194MB/s    in 0.5s    \n",
            "\n",
            "2020-10-30 18:42:58 (194 MB/s) - ‘/tmp/julia.tar.gz’ saved [99093958/99093958]\n",
            "\n",
            "    Cloning default registries into `~/.julia`\n",
            "    Cloning registry from \"https://github.com/JuliaRegistries/General.git\"\n",
            "\u001b[2K\u001b[?25h      Added registry `General` to `~/.julia/registries/General`\n",
            "  Resolving package versions...\n",
            "  Installed Artifacts ─────── v1.3.0\n",
            "  Installed VersionParsing ── v1.2.0\n",
            "  Installed MbedTLS_jll ───── v2.16.8+1\n",
            "  Installed ZeroMQ_jll ────── v4.3.2+5\n",
            "  Installed SoftGlobalScope ─ v1.1.0\n",
            "  Installed Parsers ───────── v1.0.11\n",
            "  Installed IJulia ────────── v1.22.0\n",
            "  Installed JLLWrappers ───── v1.1.3\n",
            "  Installed JSON ──────────── v0.21.1\n",
            "  Installed Conda ─────────── v1.4.1\n",
            "  Installed MbedTLS ───────── v1.0.3\n",
            "  Installed ZMQ ───────────── v1.2.1\n",
            "Downloading artifact: MbedTLS\n",
            "######################################################################## 100.0%\n",
            "\u001b[1A\u001b[2K\u001b[?25hDownloading artifact: ZeroMQ\n",
            "######################################################################## 100.0%\n",
            "\u001b[1A\u001b[2K\u001b[?25h   Updating `~/.julia/environments/v1.4/Project.toml`\n",
            "  [7073ff75] + IJulia v1.22.0\n",
            "   Updating `~/.julia/environments/v1.4/Manifest.toml`\n",
            "  [56f22d72] + Artifacts v1.3.0\n",
            "  [8f4d0f93] + Conda v1.4.1\n",
            "  [7073ff75] + IJulia v1.22.0\n",
            "  [692b3bcd] + JLLWrappers v1.1.3\n",
            "  [682c06a0] + JSON v0.21.1\n",
            "  [739be429] + MbedTLS v1.0.3\n",
            "  [c8ffd9c3] + MbedTLS_jll v2.16.8+1\n",
            "  [69de0a69] + Parsers v1.0.11\n",
            "  [b85f4697] + SoftGlobalScope v1.1.0\n",
            "  [81def892] + VersionParsing v1.2.0\n",
            "  [c2297ded] + ZMQ v1.2.1\n",
            "  [8f1865be] + ZeroMQ_jll v4.3.2+5\n",
            "  [2a0f44e3] + Base64 \n",
            "  [ade2ca70] + Dates \n",
            "  [8ba89e20] + Distributed \n",
            "  [7b1f6079] + FileWatching \n",
            "  [b77e0a4c] + InteractiveUtils \n",
            "  [76f85450] + LibGit2 \n",
            "  [8f399da3] + Libdl \n",
            "  [56ddb016] + Logging \n",
            "  [d6f4376e] + Markdown \n",
            "  [a63ad114] + Mmap \n",
            "  [44cfe95a] + Pkg \n",
            "  [de0858da] + Printf \n",
            "  [3fa0cd96] + REPL \n",
            "  [9a3f8284] + Random \n",
            "  [ea8e919c] + SHA \n",
            "  [9e88b42a] + Serialization \n",
            "  [6462fe0b] + Sockets \n",
            "  [8dfed614] + Test \n",
            "  [cf7118a7] + UUIDs \n",
            "  [4ec0a83e] + Unicode \n",
            "   Building Conda ─→ `~/.julia/packages/Conda/3rPhK/deps/build.log`\n",
            "   Building IJulia → `~/.julia/packages/IJulia/a1SNk/deps/build.log`\n",
            "Precompiling project...\n",
            "Done\n"
          ],
          "name": "stdout"
        },
        {
          "output_type": "execute_result",
          "data": {
            "text/plain": [
              ""
            ]
          },
          "metadata": {
            "tags": []
          },
          "execution_count": 2
        }
      ]
    },
    {
      "cell_type": "markdown",
      "metadata": {
        "id": "SB0btFkyAXdb"
      },
      "source": [
        "#Dependências\n",
        "\n",
        "As depências a seguir devem ser instaladas para permitir importar as bibliotecas que são usadas neste trabalho."
      ]
    },
    {
      "cell_type": "code",
      "metadata": {
        "id": "iIxu4TjlJnBG",
        "outputId": "d6ab37d4-581f-43a0-afd8-90258649339e",
        "colab": {
          "base_uri": "https://localhost:8080/"
        }
      },
      "source": [
        "9#Julia 1.4 Environment\n",
        "using Pkg\n",
        "pkg\"add ForwardDiff; precompile;\"\n",
        "pkg\"add Plots; precompile;\"\n",
        "pkg\"add PyPlot; precompile;\""
      ],
      "execution_count": 22,
      "outputs": [
        {
          "output_type": "stream",
          "text": [
            "\u001b[32m\u001b[1m   Updating\u001b[22m\u001b[39m registry at `~/.julia/registries/General`\n"
          ],
          "name": "stderr"
        },
        {
          "output_type": "stream",
          "text": [
            "\u001b[?25l    "
          ],
          "name": "stdout"
        },
        {
          "output_type": "stream",
          "text": [
            "\u001b[32m\u001b[1m   Updating\u001b[22m\u001b[39m git-repo `https://github.com/JuliaRegistries/General.git`\n"
          ],
          "name": "stderr"
        },
        {
          "output_type": "stream",
          "text": [
            "\u001b[36m\u001b[1mFetching:\u001b[22m\u001b[39m [>                                        ]  0.0 %\r    \u001b[36m\u001b[1mFetching:\u001b[22m\u001b[39m [====>                                    ]  9.1 %\r    \u001b[36m\u001b[1mFetching:\u001b[22m\u001b[39m [========>                                ]  18.2 %\r    \u001b[36m\u001b[1mFetching:\u001b[22m\u001b[39m [===========>                             ]  27.3 %\r    \u001b[36m\u001b[1mFetching:\u001b[22m\u001b[39m [===============>                         ]  36.4 %\r    \u001b[36m\u001b[1mFetching:\u001b[22m\u001b[39m [===================>                     ]  45.5 %\r    \u001b[36m\u001b[1mFetching:\u001b[22m\u001b[39m [======================>                  ]  54.5 %\r    \u001b[36m\u001b[1mFetching:\u001b[22m\u001b[39m [==========================>              ]  63.6 %\r    \u001b[36m\u001b[1mFetching:\u001b[22m\u001b[39m [==============================>          ]  72.7 %\r    \u001b[36m\u001b[1mFetching:\u001b[22m\u001b[39m [=================================>       ]  81.8 %\r    \u001b[36m\u001b[1mFetching:\u001b[22m\u001b[39m [=====================================>   ]  90.9 %\r    \u001b[36m\u001b[1mFetching:\u001b[22m\u001b[39m [========================================>]  100.0 %\r\u001b[2K\u001b[?25h"
          ],
          "name": "stdout"
        },
        {
          "output_type": "stream",
          "text": [
            "\u001b[32m\u001b[1m  Resolving\u001b[22m\u001b[39m package versions...\n",
            "\u001b[32m\u001b[1m  Installed\u001b[22m\u001b[39m OpenSpecFun_jll ────────────── v0.5.3+4\n",
            "\u001b[32m\u001b[1m  Installed\u001b[22m\u001b[39m CompilerSupportLibraries_jll ─ v0.3.4+0\n",
            "\u001b[32m\u001b[1m  Installed\u001b[22m\u001b[39m DiffResults ────────────────── v1.0.2\n",
            "\u001b[32m\u001b[1m  Installed\u001b[22m\u001b[39m NaNMath ────────────────────── v0.3.4\n",
            "\u001b[32m\u001b[1m  Installed\u001b[22m\u001b[39m MacroTools ─────────────────── v0.5.6\n",
            "\u001b[32m\u001b[1m  Installed\u001b[22m\u001b[39m DiffRules ──────────────────── v1.0.1\n",
            "\u001b[32m\u001b[1m  Installed\u001b[22m\u001b[39m StaticArrays ───────────────── v0.12.5\n",
            "\u001b[32m\u001b[1m  Installed\u001b[22m\u001b[39m ForwardDiff ────────────────── v0.10.12\n",
            "\u001b[32m\u001b[1m  Installed\u001b[22m\u001b[39m SpecialFunctions ───────────── v0.10.3\n",
            "\u001b[32m\u001b[1m  Installed\u001b[22m\u001b[39m CommonSubexpressions ───────── v0.3.0\n",
            "######################################################################### 100.0%\n",
            "######################################################################### 100.0%\n",
            "\u001b[32m\u001b[1m   Updating\u001b[22m\u001b[39m `~/.julia/environments/v1.4/Project.toml`\n",
            " \u001b[90m [f6369f11]\u001b[39m\u001b[92m + ForwardDiff v0.10.12\u001b[39m\n",
            "\u001b[32m\u001b[1m   Updating\u001b[22m\u001b[39m `~/.julia/environments/v1.4/Manifest.toml`\n",
            " \u001b[90m [bbf7d656]\u001b[39m\u001b[92m + CommonSubexpressions v0.3.0\u001b[39m\n",
            " \u001b[90m [e66e0078]\u001b[39m\u001b[92m + CompilerSupportLibraries_jll v0.3.4+0\u001b[39m\n",
            " \u001b[90m [163ba53b]\u001b[39m\u001b[92m + DiffResults v1.0.2\u001b[39m\n",
            " \u001b[90m [b552c78f]\u001b[39m\u001b[92m + DiffRules v1.0.1\u001b[39m\n",
            " \u001b[90m [f6369f11]\u001b[39m\u001b[92m + ForwardDiff v0.10.12\u001b[39m\n",
            " \u001b[90m [1914dd2f]\u001b[39m\u001b[92m + MacroTools v0.5.6\u001b[39m\n",
            " \u001b[90m [77ba4419]\u001b[39m\u001b[92m + NaNMath v0.3.4\u001b[39m\n",
            " \u001b[90m [efe28fd5]\u001b[39m\u001b[92m + OpenSpecFun_jll v0.5.3+4\u001b[39m\n",
            " \u001b[90m [276daf66]\u001b[39m\u001b[92m + SpecialFunctions v0.10.3\u001b[39m\n",
            " \u001b[90m [90137ffa]\u001b[39m\u001b[92m + StaticArrays v0.12.5\u001b[39m\n",
            " \u001b[90m [37e2e46d]\u001b[39m\u001b[92m + LinearAlgebra \u001b[39m\n",
            " \u001b[90m [2f01184e]\u001b[39m\u001b[92m + SparseArrays \u001b[39m\n",
            " \u001b[90m [10745b16]\u001b[39m\u001b[92m + Statistics \u001b[39m\n",
            "\u001b[32m\u001b[1mPrecompiling\u001b[22m\u001b[39m project...\n",
            "┌ Info: Precompiling ForwardDiff [f6369f11-7733-5829-9624-2563aa707210]\n",
            "└ @ Base loading.jl:1260\n",
            "\u001b[32m\u001b[1m  Resolving\u001b[22m\u001b[39m package versions...\n",
            "\u001b[32m\u001b[1m  Installed\u001b[22m\u001b[39m FFMPEG_jll ────────────────── v4.3.1+4\n",
            "\u001b[32m\u001b[1m  Installed\u001b[22m\u001b[39m HTTP ──────────────────────── v0.8.19\n",
            "\u001b[32m\u001b[1m  Installed\u001b[22m\u001b[39m LibVPX_jll ────────────────── v1.9.0+1\n",
            "\u001b[32m\u001b[1m  Installed\u001b[22m\u001b[39m FreeType2_jll ─────────────── v2.10.1+5\n",
            "\u001b[32m\u001b[1m  Installed\u001b[22m\u001b[39m DataAPI ───────────────────── v1.3.0\n",
            "\u001b[32m\u001b[1m  Installed\u001b[22m\u001b[39m TableTraits ───────────────── v1.0.0\n",
            "\u001b[32m\u001b[1m  Installed\u001b[22m\u001b[39m StructArrays ──────────────── v0.4.4\n",
            "\u001b[32m\u001b[1m  Installed\u001b[22m\u001b[39m StatsBase ─────────────────── v0.33.2\n",
            "\u001b[32m\u001b[1m  Installed\u001b[22m\u001b[39m Plots ─────────────────────── v1.6.12\n",
            "\u001b[32m\u001b[1m  Installed\u001b[22m\u001b[39m Adapt ─────────────────────── v2.3.0\n",
            "\u001b[32m\u001b[1m  Installed\u001b[22m\u001b[39m FFMPEG ────────────────────── v0.4.0\n",
            "\u001b[32m\u001b[1m  Installed\u001b[22m\u001b[39m DataStructures ────────────── v0.18.8\n",
            "\u001b[32m\u001b[1m  Installed\u001b[22m\u001b[39m IterTools ─────────────────── v1.3.0\n",
            "\u001b[32m\u001b[1m  Installed\u001b[22m\u001b[39m Grisu ─────────────────────── v1.0.0\n",
            "\u001b[32m\u001b[1m  Installed\u001b[22m\u001b[39m x264_jll ──────────────────── v2020.7.14+2\n",
            "\u001b[32m\u001b[1m  Installed\u001b[22m\u001b[39m Contour ───────────────────── v0.5.5\n",
            "\u001b[32m\u001b[1m  Installed\u001b[22m\u001b[39m OpenSSL_jll ───────────────── v1.1.1+6\n",
            "\u001b[32m\u001b[1m  Installed\u001b[22m\u001b[39m Colors ────────────────────── v0.12.4\n",
            "\u001b[32m\u001b[1m  Installed\u001b[22m\u001b[39m IniFile ───────────────────── v0.5.0\n",
            "\u001b[32m\u001b[1m  Installed\u001b[22m\u001b[39m Bzip2_jll ─────────────────── v1.0.6+5\n",
            "\u001b[32m\u001b[1m  Installed\u001b[22m\u001b[39m FriBidi_jll ───────────────── v1.0.5+6\n",
            "\u001b[32m\u001b[1m  Installed\u001b[22m\u001b[39m Opus_jll ──────────────────── v1.3.1+3\n",
            "\u001b[32m\u001b[1m  Installed\u001b[22m\u001b[39m SortingAlgorithms ─────────── v0.3.1\n",
            "\u001b[32m\u001b[1m  Installed\u001b[22m\u001b[39m PlotThemes ────────────────── v2.0.0\n",
            "\u001b[32m\u001b[1m  Installed\u001b[22m\u001b[39m IteratorInterfaceExtensions ─ v1.0.0\n",
            "\u001b[32m\u001b[1m  Installed\u001b[22m\u001b[39m EarCut_jll ────────────────── v2.1.5+0\n",
            "\u001b[32m\u001b[1m  Installed\u001b[22m\u001b[39m OrderedCollections ────────── v1.3.1\n",
            "\u001b[32m\u001b[1m  Installed\u001b[22m\u001b[39m Latexify ──────────────────── v0.14.2\n",
            "\u001b[32m\u001b[1m  Installed\u001b[22m\u001b[39m FixedPointNumbers ─────────── v0.8.4\n",
            "\u001b[32m\u001b[1m  Installed\u001b[22m\u001b[39m Measures ──────────────────── v0.3.1\n",
            "\u001b[32m\u001b[1m  Installed\u001b[22m\u001b[39m x265_jll ──────────────────── v3.0.0+3\n",
            "\u001b[32m\u001b[1m  Installed\u001b[22m\u001b[39m Reexport ──────────────────── v0.2.0\n",
            "\u001b[32m\u001b[1m  Installed\u001b[22m\u001b[39m GeometryBasics ────────────── v0.3.3\n",
            "\u001b[32m\u001b[1m  Installed\u001b[22m\u001b[39m PlotUtils ─────────────────── v1.0.7\n",
            "\u001b[32m\u001b[1m  Installed\u001b[22m\u001b[39m DataValueInterfaces ───────── v1.0.0\n",
            "\u001b[32m\u001b[1m  Installed\u001b[22m\u001b[39m libfdk_aac_jll ────────────── v0.1.6+4\n",
            "\u001b[32m\u001b[1m  Installed\u001b[22m\u001b[39m Tables ────────────────────── v1.1.0\n",
            "\u001b[32m\u001b[1m  Installed\u001b[22m\u001b[39m Ogg_jll ───────────────────── v1.3.4+2\n",
            "\u001b[32m\u001b[1m  Installed\u001b[22m\u001b[39m libvorbis_jll ─────────────── v1.3.6+6\n",
            "\u001b[32m\u001b[1m  Installed\u001b[22m\u001b[39m LaTeXStrings ──────────────── v1.2.0\n",
            "\u001b[32m\u001b[1m  Installed\u001b[22m\u001b[39m Zlib_jll ──────────────────── v1.2.11+18\n",
            "\u001b[32m\u001b[1m  Installed\u001b[22m\u001b[39m Compat ────────────────────── v3.23.0\n",
            "\u001b[32m\u001b[1m  Installed\u001b[22m\u001b[39m Missings ──────────────────── v0.4.4\n",
            "\u001b[32m\u001b[1m  Installed\u001b[22m\u001b[39m Showoff ───────────────────── v0.3.2\n",
            "\u001b[32m\u001b[1m  Installed\u001b[22m\u001b[39m LAME_jll ──────────────────── v3.100.0+3\n",
            "\u001b[32m\u001b[1m  Installed\u001b[22m\u001b[39m Formatting ────────────────── v0.4.1\n",
            "\u001b[32m\u001b[1m  Installed\u001b[22m\u001b[39m RecipesPipeline ───────────── v0.1.13\n",
            "\u001b[32m\u001b[1m  Installed\u001b[22m\u001b[39m ColorTypes ────────────────── v0.10.9\n",
            "\u001b[32m\u001b[1m  Installed\u001b[22m\u001b[39m RecipesBase ───────────────── v1.1.0\n",
            "\u001b[32m\u001b[1m  Installed\u001b[22m\u001b[39m Requires ──────────────────── v1.1.0\n",
            "\u001b[32m\u001b[1m  Installed\u001b[22m\u001b[39m GR ────────────────────────── v0.52.0\n",
            "\u001b[32m\u001b[1m  Installed\u001b[22m\u001b[39m GeometryTypes ─────────────── v0.8.3\n",
            "\u001b[32m\u001b[1m  Installed\u001b[22m\u001b[39m libass_jll ────────────────── v0.14.0+4\n",
            "\u001b[32m\u001b[1m  Installed\u001b[22m\u001b[39m ColorSchemes ──────────────── v3.10.1\n",
            "######################################################################### 100.0%\n",
            "######################################################################### 100.0%\n",
            "######################################################################### 100.0%\n",
            "######################################################################### 100.0%\n",
            "######################################################################### 100.0%\n",
            "######################################################################### 100.0%\n",
            "######################################################################### 100.0%\n",
            "######################################################################### 100.0%\n",
            "######################################################################### 100.0%\n",
            "######################################################################### 100.0%\n",
            "######################################################################### 100.0%\n",
            "######################################################################### 100.0%\n",
            "######################################################################### 100.0%\n",
            "######################################################################### 100.0%\n",
            "######################################################################### 100.0%\n",
            "######################################################################### 100.0%\n",
            "\u001b[32m\u001b[1m   Updating\u001b[22m\u001b[39m `~/.julia/environments/v1.4/Project.toml`\n",
            " \u001b[90m [91a5bcdd]\u001b[39m\u001b[92m + Plots v1.6.12\u001b[39m\n",
            "\u001b[32m\u001b[1m   Updating\u001b[22m\u001b[39m `~/.julia/environments/v1.4/Manifest.toml`\n",
            " \u001b[90m [79e6a3ab]\u001b[39m\u001b[92m + Adapt v2.3.0\u001b[39m\n",
            " \u001b[90m [6e34b625]\u001b[39m\u001b[92m + Bzip2_jll v1.0.6+5\u001b[39m\n",
            " \u001b[90m [35d6a980]\u001b[39m\u001b[92m + ColorSchemes v3.10.1\u001b[39m\n",
            " \u001b[90m [3da002f7]\u001b[39m\u001b[92m + ColorTypes v0.10.9\u001b[39m\n",
            " \u001b[90m [5ae59095]\u001b[39m\u001b[92m + Colors v0.12.4\u001b[39m\n",
            " \u001b[90m [34da2185]\u001b[39m\u001b[92m + Compat v3.23.0\u001b[39m\n",
            " \u001b[90m [d38c429a]\u001b[39m\u001b[92m + Contour v0.5.5\u001b[39m\n",
            " \u001b[90m [9a962f9c]\u001b[39m\u001b[92m + DataAPI v1.3.0\u001b[39m\n",
            " \u001b[90m [864edb3b]\u001b[39m\u001b[92m + DataStructures v0.18.8\u001b[39m\n",
            " \u001b[90m [e2d170a0]\u001b[39m\u001b[92m + DataValueInterfaces v1.0.0\u001b[39m\n",
            " \u001b[90m [5ae413db]\u001b[39m\u001b[92m + EarCut_jll v2.1.5+0\u001b[39m\n",
            " \u001b[90m [c87230d0]\u001b[39m\u001b[92m + FFMPEG v0.4.0\u001b[39m\n",
            " \u001b[90m [b22a6f82]\u001b[39m\u001b[92m + FFMPEG_jll v4.3.1+4\u001b[39m\n",
            " \u001b[90m [53c48c17]\u001b[39m\u001b[92m + FixedPointNumbers v0.8.4\u001b[39m\n",
            " \u001b[90m [59287772]\u001b[39m\u001b[92m + Formatting v0.4.1\u001b[39m\n",
            " \u001b[90m [d7e528f0]\u001b[39m\u001b[92m + FreeType2_jll v2.10.1+5\u001b[39m\n",
            " \u001b[90m [559328eb]\u001b[39m\u001b[92m + FriBidi_jll v1.0.5+6\u001b[39m\n",
            " \u001b[90m [28b8d3ca]\u001b[39m\u001b[92m + GR v0.52.0\u001b[39m\n",
            " \u001b[90m [5c1252a2]\u001b[39m\u001b[92m + GeometryBasics v0.3.3\u001b[39m\n",
            " \u001b[90m [4d00f742]\u001b[39m\u001b[92m + GeometryTypes v0.8.3\u001b[39m\n",
            " \u001b[90m [42e2da0e]\u001b[39m\u001b[92m + Grisu v1.0.0\u001b[39m\n",
            " \u001b[90m [cd3eb016]\u001b[39m\u001b[92m + HTTP v0.8.19\u001b[39m\n",
            " \u001b[90m [83e8ac13]\u001b[39m\u001b[92m + IniFile v0.5.0\u001b[39m\n",
            " \u001b[90m [c8e1da08]\u001b[39m\u001b[92m + IterTools v1.3.0\u001b[39m\n",
            " \u001b[90m [82899510]\u001b[39m\u001b[92m + IteratorInterfaceExtensions v1.0.0\u001b[39m\n",
            " \u001b[90m [c1c5ebd0]\u001b[39m\u001b[92m + LAME_jll v3.100.0+3\u001b[39m\n",
            " \u001b[90m [b964fa9f]\u001b[39m\u001b[92m + LaTeXStrings v1.2.0\u001b[39m\n",
            " \u001b[90m [23fbe1c1]\u001b[39m\u001b[92m + Latexify v0.14.2\u001b[39m\n",
            " \u001b[90m [dd192d2f]\u001b[39m\u001b[92m + LibVPX_jll v1.9.0+1\u001b[39m\n",
            " \u001b[90m [442fdcdd]\u001b[39m\u001b[92m + Measures v0.3.1\u001b[39m\n",
            " \u001b[90m [e1d29d7a]\u001b[39m\u001b[92m + Missings v0.4.4\u001b[39m\n",
            " \u001b[90m [e7412a2a]\u001b[39m\u001b[92m + Ogg_jll v1.3.4+2\u001b[39m\n",
            " \u001b[90m [458c3c95]\u001b[39m\u001b[92m + OpenSSL_jll v1.1.1+6\u001b[39m\n",
            " \u001b[90m [91d4177d]\u001b[39m\u001b[92m + Opus_jll v1.3.1+3\u001b[39m\n",
            " \u001b[90m [bac558e1]\u001b[39m\u001b[92m + OrderedCollections v1.3.1\u001b[39m\n",
            " \u001b[90m [ccf2f8ad]\u001b[39m\u001b[92m + PlotThemes v2.0.0\u001b[39m\n",
            " \u001b[90m [995b91a9]\u001b[39m\u001b[92m + PlotUtils v1.0.7\u001b[39m\n",
            " \u001b[90m [91a5bcdd]\u001b[39m\u001b[92m + Plots v1.6.12\u001b[39m\n",
            " \u001b[90m [3cdcf5f2]\u001b[39m\u001b[92m + RecipesBase v1.1.0\u001b[39m\n",
            " \u001b[90m [01d81517]\u001b[39m\u001b[92m + RecipesPipeline v0.1.13\u001b[39m\n",
            " \u001b[90m [189a3867]\u001b[39m\u001b[92m + Reexport v0.2.0\u001b[39m\n",
            " \u001b[90m [ae029012]\u001b[39m\u001b[92m + Requires v1.1.0\u001b[39m\n",
            " \u001b[90m [992d4aef]\u001b[39m\u001b[92m + Showoff v0.3.2\u001b[39m\n",
            " \u001b[90m [a2af1166]\u001b[39m\u001b[92m + SortingAlgorithms v0.3.1\u001b[39m\n",
            " \u001b[90m [2913bbd2]\u001b[39m\u001b[92m + StatsBase v0.33.2\u001b[39m\n",
            " \u001b[90m [09ab397b]\u001b[39m\u001b[92m + StructArrays v0.4.4\u001b[39m\n",
            " \u001b[90m [3783bdb8]\u001b[39m\u001b[92m + TableTraits v1.0.0\u001b[39m\n",
            " \u001b[90m [bd369af6]\u001b[39m\u001b[92m + Tables v1.1.0\u001b[39m\n",
            " \u001b[90m [83775a58]\u001b[39m\u001b[92m + Zlib_jll v1.2.11+18\u001b[39m\n",
            " \u001b[90m [0ac62f75]\u001b[39m\u001b[92m + libass_jll v0.14.0+4\u001b[39m\n",
            " \u001b[90m [f638f0a6]\u001b[39m\u001b[92m + libfdk_aac_jll v0.1.6+4\u001b[39m\n",
            " \u001b[90m [f27f6e37]\u001b[39m\u001b[92m + libvorbis_jll v1.3.6+6\u001b[39m\n",
            " \u001b[90m [1270edf5]\u001b[39m\u001b[92m + x264_jll v2020.7.14+2\u001b[39m\n",
            " \u001b[90m [dfaa095f]\u001b[39m\u001b[92m + x265_jll v3.0.0+3\u001b[39m\n",
            " \u001b[90m [8bb1440f]\u001b[39m\u001b[92m + DelimitedFiles \u001b[39m\n",
            " \u001b[90m [1a1011a3]\u001b[39m\u001b[92m + SharedArrays \u001b[39m\n",
            "\u001b[32m\u001b[1m   Building\u001b[22m\u001b[39m GR → `~/.julia/packages/GR/BwGt2/deps/build.log`\n",
            "\u001b[32m\u001b[1mPrecompiling\u001b[22m\u001b[39m project...\n",
            "┌ Info: Precompiling Plots [91a5bcdd-55d7-5caf-9e0b-520d859cae80]\n",
            "└ @ Base loading.jl:1260\n",
            "\u001b[32m\u001b[1m  Resolving\u001b[22m\u001b[39m package versions...\n",
            "\u001b[32m\u001b[1m  Installed\u001b[22m\u001b[39m PyPlot ─ v2.9.0\n",
            "\u001b[32m\u001b[1m  Installed\u001b[22m\u001b[39m PyCall ─ v1.92.1\n",
            "\u001b[32m\u001b[1m   Updating\u001b[22m\u001b[39m `~/.julia/environments/v1.4/Project.toml`\n",
            " \u001b[90m [d330b81b]\u001b[39m\u001b[92m + PyPlot v2.9.0\u001b[39m\n",
            "\u001b[32m\u001b[1m   Updating\u001b[22m\u001b[39m `~/.julia/environments/v1.4/Manifest.toml`\n",
            " \u001b[90m [438e738f]\u001b[39m\u001b[92m + PyCall v1.92.1\u001b[39m\n",
            " \u001b[90m [d330b81b]\u001b[39m\u001b[92m + PyPlot v2.9.0\u001b[39m\n",
            "\u001b[32m\u001b[1m   Building\u001b[22m\u001b[39m PyCall → `~/.julia/packages/PyCall/BcTLp/deps/build.log`\n",
            "\u001b[32m\u001b[1mPrecompiling\u001b[22m\u001b[39m project...\n",
            "┌ Info: Precompiling PyPlot [d330b81b-6aea-500a-939a-2ce795aea3ee]\n",
            "└ @ Base loading.jl:1260\n"
          ],
          "name": "stderr"
        }
      ]
    },
    {
      "cell_type": "markdown",
      "metadata": {
        "id": "aecu6riwGAq7"
      },
      "source": [
        "<h1>Funções Auxiliares</h1>\n",
        "\n",
        "Durante a implementação usamos uma biblioteca para calcular derivadas e gradientes através da técnica  de \"Automatic Differentiation\". Essa permite calcular com precisão e agilidade os métodos aqui utilizados. Além disso, usamos o framework Plots em conjunto com a engine PyPlot para gerar gráficos das funções testadas.\n",
        "\n"
      ]
    },
    {
      "cell_type": "code",
      "metadata": {
        "id": "7P2YdS1wGDhs",
        "outputId": "9577dd25-13ea-41cd-eafa-a2ebfe01bbcf",
        "colab": {
          "base_uri": "https://localhost:8080/"
        }
      },
      "source": [
        "import ForwardDiff  # calcula derivadas usando automatic differentiation in forward mode\n",
        "using LinearAlgebra #adiciona operações de algebra linear\n",
        "using Plots\n",
        "\n",
        "pyplot()#usa PyPlot como backend engine\n",
        "∇ = (h,x)->ForwardDiff.gradient(h,x) #gradiente de h(x)\n",
        "Hessian = (h,x)->ForwardDiff.hessian(h,x) # hessian de h(x)\n",
        "Df = (h,x)->ForwardDiff.derivative(h,x);  # primeira derivada de h'(x)\n",
        "D_2f = (h,x)->ForwardDiff.derivative(z->ForwardDiff.derivative(h,z),x) # segunda derivada h\"(x)"
      ],
      "execution_count": 23,
      "outputs": [
        {
          "output_type": "execute_result",
          "data": {
            "text/plain": [
              "#198 (generic function with 1 method)"
            ]
          },
          "metadata": {
            "tags": []
          },
          "execution_count": 23
        }
      ]
    },
    {
      "cell_type": "code",
      "metadata": {
        "id": "2gRkMFQeGLlR",
        "outputId": "70e5342a-b9de-4b9f-d96a-7a13ae89703d",
        "colab": {
          "base_uri": "https://localhost:8080/"
        }
      },
      "source": [
        "#função de busca linear\n",
        "function linear_search(f::Function,x::Vector,d::Vector,method::Function)\n",
        "    ϕ = t->f(x+t*d)\n",
        "    α = method(f,x,d)\n",
        "    return (ϕ(α),x+α*d)\n",
        "end\n",
        "\n",
        "\n",
        "function viable_step(x::Vector,d::Vector,α,inequalities::Vector)\n",
        "    while(length(filter(x->x==true,[g(x+α*d)>0 for g in inequalities]))!=0)\n",
        "          α = 0.8*α\n",
        "    end\n",
        "    return α;\n",
        "end\n",
        "\n",
        "\n",
        "function secao_aurea(f::Function,x::Vector,d::Vector;φ::Function = t->f(x+t*d),ρ = 1/2,ϵ = 1e-9)::Float64\n",
        "    θ_1 = (3 - sqrt(5))/2.0\n",
        "    θ_2 = (sqrt(5) - 1)/2.0\n",
        "    #Obtenção intervalo\n",
        "    a=0\n",
        "    b=2*ρ\n",
        "    s = b / 2\n",
        "    while(φ(b)<φ(s))\n",
        "        a = s\n",
        "        s = b\n",
        "        b *= 2\n",
        "    end\n",
        "    #Obtenção de t\n",
        "    u = a + θ_1*(b - a)\n",
        "    v = a + θ_2*(b - a)\n",
        "    while(b - a > ϵ)\n",
        "        if(φ(u)<φ(v))\n",
        "            b = v\n",
        "            v = u\n",
        "            u = a + θ_1*(b - a)\n",
        "        else\n",
        "            a = u\n",
        "            u = v\n",
        "            v = a + θ_2*(b - a)\n",
        "        end\n",
        "    end\n",
        "    return (u+v)/2\n",
        "end\n",
        "\n",
        "function secao_aurea(f::Function,x::Vector,d::Vector,(a,b)::Tuple{Float64,Float64};φ::Function = t->f(x+t*d),ϵ = 1e-9,n_iter=100)::Float64\n",
        "    θ_1 = (3 - sqrt(5))/2.0\n",
        "    θ_2 = (sqrt(5) - 1)/2.0\n",
        "    #Obtenção de t\n",
        "    u = a + θ_1*(b - a)\n",
        "    v = a + θ_2*(b - a)\n",
        "    iter = 0\n",
        "    while(b - a > ϵ&&iter<n_iter)\n",
        "        if(φ(u)< φ(v))\n",
        "            b = v\n",
        "            v = u\n",
        "            u = a + θ_1*(b - a)\n",
        "        else\n",
        "            a = u\n",
        "            u = v\n",
        "            v = a + θ_2*(b - a)\n",
        "        end\n",
        "        iter = iter + 1\n",
        "    end\n",
        "    return (u+v)/2\n",
        "end\n",
        "\n",
        "function newton(f::Function,x::Vector,d::Vector;φ::Function = y->f(x+y*d),t::Float64=1.0,ϵ = 1e-4,n_iter=100)::Float64\n",
        "   iter = 0\n",
        "   while (abs(Df(φ,t)) > ϵ && iter < n_iter)\n",
        "         t_next = t - (Df(φ,t)/D_2f(φ,t))\n",
        "         if(t_next>=0.0)\n",
        "            t = t_next\n",
        "         else\n",
        "            return t\n",
        "         end\n",
        "         iter = iter + 1\n",
        "   end \n",
        "   return t\n",
        "end\n",
        "\n",
        "\n",
        "\n",
        "\n",
        "function armijo(f::Function,x::Vector,d::Vector;φ::Function = y->f(x+y*d),t::Float64= 1.0,η::Float64 = 0.25)\n",
        "    # f(x + td) > f(x) +t(∇f(x)⋅ d)\n",
        "    while (φ(t)>φ(0)+ η*t*(∇(f,x)⋅d)&&t>1e-12)\n",
        "      t *=0.8\n",
        "    end\n",
        "    return t\n",
        "end\n",
        "\n",
        "function gradient_descent(f::Function,x::Vector,linear_method::Function;ϵ=1e-4,n_iter=100)\n",
        "     iter = 0\n",
        "    while(norm(∇(f,x))> ϵ && iter < n_iter)\n",
        "      d = -∇(f,x)\n",
        "      x = linear_search(f,x,d,linear_method)[2]\n",
        "      iter = iter + 1\n",
        "    end\n",
        "\n",
        "    return (f(x),x)\n",
        "end\n",
        "\n",
        "function newton_search(f::Function,x::Vector,linear_method::Function;ϵ=1e-4,n_iter=100)\n",
        "     iter = 0\n",
        "    while(norm(∇(f,x))> ϵ && iter < n_iter)\n",
        "        d = -inv(Hessian(f,x))*∇(f,x)\n",
        "        x = linear_search(f,x,d,linear_method)[2]\n",
        "         iter = iter + 1\n",
        "    end\n",
        "    return (f(x),x)\n",
        "end\n",
        "\n",
        "function quasi_newton_BFGS(f::Function,x::Vector,linear_method::Function;ϵ=1e-4,n_iter=100)\n",
        "    H = I\n",
        "     flag = true\n",
        "    g_new=∇(f,x)\n",
        "     iter = 0\n",
        "    while(norm(g_new)> ϵ&& iter < n_iter)\n",
        "       d = -H*g_new\n",
        "       x_old=x\n",
        "       g_old = g_new\n",
        "      x=linear_search(f,x,d,linear_method)[2]\n",
        "      if(-x_old[1]+x[1]==0.0)\n",
        "          return (f(x),x)\n",
        "      end\n",
        "      p = x - x_old\n",
        "      g_new = ∇(f,x)\n",
        "      q = g_new - g_old\n",
        "      qT = transpose(q)\n",
        "      pT = transpose(p)\n",
        "       if(flag)\n",
        "          H = ((qT*p)/(qT*q))*I #scaling of I\n",
        "          flag =false\n",
        "      end\n",
        "      H = H+ (1+ ((qT*H*q)/(pT*q)))*((p*pT)/(pT*q)) - ((p*qT*H + H*q*pT)/(pT*q))\n",
        "      iter = iter +1\n",
        "    end\n",
        "    return (f(x),x)\n",
        "end\n",
        "\n",
        "function gradient_conjugate_PR(f::Function,x::Vector,linear_method::Function;ϵ=1e-4,n_iter=100)\n",
        "    k = 0\n",
        "    n = length(x)\n",
        "    g_new=∇(f,x)\n",
        "    d = -g_new\n",
        "    while(norm(g_new)> ϵ&&k<n_iter)\n",
        "        x_old = x\n",
        "        g_old = g_new\n",
        "        x=linear_search(f,x,d,linear_method)[2]\n",
        "        g_new  = ∇(f,x)\n",
        "        β = max((transpose(g_new)*(g_new - g_old))/(transpose(g_old)*g_old),0)\n",
        "        d = -g_new + β*d\n",
        "        k = k + 1\n",
        "    end\n",
        "    return (f(x),x)\n",
        "end"
      ],
      "execution_count": 50,
      "outputs": [
        {
          "output_type": "execute_result",
          "data": {
            "text/plain": [
              "gradient_conjugate_PR (generic function with 1 method)"
            ]
          },
          "metadata": {
            "tags": []
          },
          "execution_count": 50
        }
      ]
    },
    {
      "cell_type": "markdown",
      "metadata": {
        "id": "OqvT69YHle-R"
      },
      "source": [
        "#Método da Barreira"
      ]
    },
    {
      "cell_type": "markdown",
      "metadata": {
        "id": "YTRRKk99ByIv"
      },
      "source": [
        "O objetivo do método é transformar um problema restrito em um problema irrestrito. Para isso usamos um parâmetro que ajuda a transformar o problema restrito em um problema irrestrito, onde tal parâmetro deve tender a zero para obtermos a convergência para solução do problema original. A ideia é obter uma nova função para o problema irrestrito, de tal maneira que ela tenha uma \"barreira\" em torno do conjunto viável, e com isso vamos gerar uma sequência {$x_{k}$} de pontos viáveis a partir de um $x_{0}$ viável.\n",
        " \n",
        "\\\n",
        " \n",
        "Definição \\\\\n",
        "Uma função $\\psi :D^{0}\\rightarrow\\mathbb{R}_{+}$ chama-se barreira para o conjunto $D$ definido por uma função objetivo sujeito a um conjunto de restrições de desigualdades, se ela e contínua $D^{0}$, e para a sequência {$x_{k}$}$\\subset D^{0}$ tal que $g_{i}(x_{k})\\rightarrow 0$ para algum $i\\in${$1,..,m$}, tem-se que $\\psi (x_{k})\\rightarrow+\\infty$ $(k\\rightarrow+\\infty)$.\n",
        " \n",
        "\\\n",
        " \n",
        "Com $min$ $f(x)$ sujeito a $x\\in D=\\left\\{x\\in \\mathbb{R}^{n}|g(x)\\leq 0\\right\\}$, sendo $f:\\mathbb{R}^{n}\\rightarrow\\mathbb{R}$ e $g:\\mathbb{R}^{n}\\rightarrow\\mathbb{R}^{m}$, sendo o problema a ser resolvido. \\\\\n",
        "Essa definição nos diz que barreira é uma função na qual se nos aproximarmos da fronteira do conjunto viável, a função de barreira vai tender para infinito. Portanto vale ressaltar que $\\psi$, a função de barreira, trabalha no conjunto interior do conjunto viável, pois nas igualdades, teriamos indeterminações, porem mesmo assim teriamos a mesma solução, pois.\n",
        " \n",
        "\\\n",
        " \n",
        "\\begin{equation}\n",
        "inf_{x\\in D^{0}}f(x)=inf_{x\\in D}f(x)=v>-\\infty\n",
        "\\end{equation}\n",
        " \n",
        "\\\n",
        " \n",
        "Com isso podemos definir algumas funções de barreira como a logarítmica,\n",
        " \n",
        "\\\n",
        " \n",
        "\\begin{equation}\n",
        "\\psi(x)=-\\sum^{m}_{i=1}log(-g_{i}(x))\n",
        "\\end{equation}\n",
        "com $x\\in D^{0}$\n",
        " \n",
        "\\\n",
        " \n",
        "Pode-se perceber que se $x$ pertencer a fronteira de $D$, então vamos ter uma indeterminação pois para algum $i\\in${$1,...,m$}, vamos ter $log(-g_{i}(x)=0)$ que é uma indeterminação. Uma observação é que o sinal negativo de $g_{i}(x)$ no logaritmo vem da sua desigualdade $\\leq$, pois para $x\\in D^{0}$ temos que $log(g_{i}(x)<0)$, como $log$ não é definido para números negativos, portanto multiplicamos por $(-1)$, e ficamos com $log(-g_{i}(x)>0)$. \\\\\n",
        "Tambem temos a barreira inversa, definida por.\n",
        " \n",
        "\\\n",
        " \n",
        "\\begin{equation}\n",
        "\\psi(x)=-\\sum^{m}_{i=1}\\frac{1}{g_{i}(x)}\n",
        "\\end{equation}\n",
        "com $x\\in D^{0}$\n",
        " \n",
        "\\\n",
        " \n",
        "análogo a barreira logarítmica, teremos uma indeterminação se $x$ pertencer a fronteira de conjunto viável.\n",
        " \n",
        "\\\n",
        " \n",
        "Agora podemos definir a função objetivo do problema irrestrito como,\n",
        " \n",
        "\\\n",
        " \n",
        "\\begin{equation}\n",
        "\\phi (x;t)=f(x)+t\\psi (x)\n",
        "\\end{equation}\n",
        " \n",
        "\\\n",
        " \n",
        "sendo $t>0$ o parâmetro penalizador. Portanto vamos ficar com o problema de $min$ $f(x)+t\\psi(x)$ sujeito a $x\\in \\mathbb{R}^{n}$, com $\\phi:D^{0}\\rightarrow\\mathbb{R}_{+}$\n",
        " \n",
        "\\\n",
        " \n",
        "Proposição \\\\\n",
        "Suponhamos que o conjunto viável $D$ satisfaça o fato de ser interior e que o ínfimo de $f$ seja o valor ótimo desse problema. Seja {$x_{k}$} uma sequência gerada pelo algoritmo do método de barreira, onde $x_{k}$ é um solução global do problema transformado com $t=t_{k}$. Então $\\forall k$, tem-se que\n",
        " \n",
        "\\\n",
        " \n",
        "\\begin{equation}\n",
        "\\phi (x_{k+1};t_{k+1})\\leq \\phi (x_{k};t)\n",
        "\\end{equation}\n",
        "\\begin{equation}\n",
        "\\psi (x_{k+1})\\geq \\psi (x_{k})\n",
        "\\end{equation}\n",
        "\\begin{equation}\n",
        "f(x_{k+1})\\leq f(x_{k})\n",
        "\\end{equation}\n",
        " \n",
        "\\\n",
        " \n",
        "Teorema (Convergência do Métodos de Barreira) \\\\\n",
        "Sejam $f:\\mathbb{R}^{n}\\rightarrow\\mathbb{R}$ e $g:\\mathbb{R}^{n}\\rightarrow\\mathbb{R}^{m}$ funções contínuas em $\\mathbb{R}^{n}$. Suponhamos que o conjunto viável $D$ satisfaça o fato de ser interior e que o ínfimo de $f$ seja o valor ótimo desse problema. Então todo ponto de acumulação da sequência {$x_{k}$} gerada pelo algoritmo do método de barreira, onde $x_{k}$ é uma solução global do problema transformado com $t=t_{k}$ e $t\\rightarrow 0$$(k\\rightarrow \\infty)$, é uma solução global do problema de otimização original."
      ]
    },
    {
      "cell_type": "code",
      "metadata": {
        "id": "oklftb9olWzC",
        "outputId": "b0e59a1f-3cc3-442b-d5a8-e945f1b96777",
        "colab": {
          "base_uri": "https://localhost:8080/"
        }
      },
      "source": [
        "function barrier_method(f::Function,x::Vector,inequalities::Vector,unc_opt_method::Function,linear_method::Function;t=10.0,β=0.5,tol=1e-4)\n",
        "    function ψ(x)\n",
        "        if(length(filter(x->x>=0,[g(x) for g in inequalities]))!=0)\n",
        "            return Inf\n",
        "        end\n",
        "        return -sum([(1.0/g(x)) for g in inequalities])\n",
        "    end\n",
        "    φ = (y,h)-> f(y) + h*ψ(y)\n",
        "    #L = (y,μ)-> -∇(f,x) + sum(μ.*[∇(g,x) for g in inequalities]))\n",
        "    x = unc_opt_method(y->φ(y,t),x,(f,x,d)->viable_step(x,d,linear_method(f,x,d),inequalities))[2]\n",
        "    while(t*ψ(x)>=tol)\n",
        "       t = β*t\n",
        "       x = unc_opt_method(y->φ(y,t),x,(f,x,d)->viable_step(x,d,linear_method(f,x,d),inequalities))[2]\n",
        "       #println(\"--------barrier step---------\")\n",
        "       #println([x,f(x),t,ψ(x)])\n",
        "       #println(\"-----------------------------\")\n",
        "    end\n",
        "    return (f(x),x)\n",
        "end\n",
        "\n"
      ],
      "execution_count": 25,
      "outputs": [
        {
          "output_type": "execute_result",
          "data": {
            "text/plain": [
              "barrier_method (generic function with 1 method)"
            ]
          },
          "metadata": {
            "tags": []
          },
          "execution_count": 25
        }
      ]
    },
    {
      "cell_type": "code",
      "metadata": {
        "id": "PuCAc7Ok4Nhk",
        "outputId": "8a14e210-a132-4995-8e4a-b78c582ab4a5",
        "colab": {
          "base_uri": "https://localhost:8080/"
        }
      },
      "source": [
        "barrier_method(x->(x[1]-2)^2+(x[2]-1)^2,[0.5,0.5],[x->x[1]+x[2]-2,x->x[1]^2-x[2]],gradient_descent,armijo)"
      ],
      "execution_count": 45,
      "outputs": [
        {
          "output_type": "execute_result",
          "data": {
            "text/plain": [
              "(1.0000787953324752, [0.999960603303814, 0.9999803021930853])"
            ]
          },
          "metadata": {
            "tags": []
          },
          "execution_count": 45
        }
      ]
    },
    {
      "cell_type": "markdown",
      "metadata": {
        "id": "65XNdX7olhfk"
      },
      "source": [
        "#Método de Penalidade"
      ]
    },
    {
      "cell_type": "markdown",
      "metadata": {
        "id": "vlDNFs3lDOiN"
      },
      "source": [
        "O objetivo é transformar um problema restrito em irrestrito, onde vamos gerar um sequência {$x_{k}$} de pontos inviáveis, onde espera-se que quando $x_{k}$ torne-se viável, vamos ter a solução do problema original. E para a convergência à solução do problema original, é necessário que o parâmetro que nos auxilia nessa transformação vá para o infinito. \\\\\n",
        "Assim vamos querer uma função $\\psi :\\mathbb{R}^{n}\\rightarrow \\mathbb{R}_{+}$ contínua em $\\mathbb{R}^{n}$, tal que.\n",
        " \n",
        "\\\n",
        " \n",
        "\\begin{equation}\n",
        "\\psi (x)=\\left\\{\\begin{matrix}\n",
        " =0& \\forall x\\in D \\\\ \n",
        " >0& \\forall x\\in \\mathbb{R}^{n}-D\n",
        "\\end{matrix}\\right.\n",
        "\\end{equation}\n",
        " \n",
        "\\\n",
        " \n",
        "Perceba que quando $x\\rightarrow D$, então $\\psi \\rightarrow 0$. \\\\\n",
        "Para definir $\\psi$ tome $\\phi :\\mathbb{R}^{n}\\rightarrow \\mathbb{R}^{l}\\times\\mathbb{R}^{m}$ como,\n",
        " \n",
        "\\\n",
        " \n",
        "\\begin{equation}\n",
        "\\phi (x)=(h(x), max\\left\\{0,g_{1}(x)\\right\\},...,max\\left\\{0,g_{m}(x)\\right\\})\n",
        "\\end{equation}\n",
        " \n",
        "\\\n",
        " \n",
        "Veja que se para algum $x^{*}$ houver um $i\\in${$1,...,m$}, tal que, $g_{i}(x^{*})<0$, então, $\\phi (x^{*})=(h(x^{*}),...,max\\left\\{0,g_{i-1}(x)\\right\\},0,max\\left\\{0,g_{i+1}(x)\\right\\},...,max\\left\\{0,g_{m}(x)\\right\\})$, e como $\\forall x\\in D$ temos que $h(x)=0$ e $g_{i}(x)\\leq 0$ $\\forall i\\in \\left\\{1,...,m\\right\\}$, portanto concluímos que $\\phi (x)=(0,...,0)$. Agora podemos definir nossa $\\psi$ como,\n",
        " \n",
        "\\\n",
        " \n",
        "\\begin{equation}\n",
        "\\psi (x)=||\\phi (x)||^{p}\n",
        "\\end{equation}\n",
        "Com $x\\in \\mathbb{R}^{n}$ e $p>0$\n",
        " \n",
        "\\\n",
        " \n",
        "Que satisfaz as propriedades pois, pra $x\\in D$ tem que $\\psi =0$ pois $||0||^{p}=0$ e definida positiva. Para $h(x)$ e $g(x)$ diferenciáveis, temos que para a norna Euclidiana $\\psi (x)$ é diferenciável para $p>1$, e não diferenciável caso contrário.\n",
        " \n",
        "\\\n",
        " \n",
        "Agora podemos definir nosso problema irrestrito como,\n",
        " \n",
        "\\\n",
        " \n",
        "\\begin{equation}\n",
        "min \\varphi(x;t)=f(x)+c\\psi(x)\n",
        "\\end{equation}\n",
        "$\\hspace{3cm}$Sujeito $x\\in \\mathbb{R}^{n}$\n",
        " \n",
        "\\\n",
        "Note que quando $c$ tende ao infinito, os valores de $\\psi$ fora de $D$ crescem muito, assim a sequência {$x_{k}$} se aproxima do conjunto viável $D$.\n",
        " \n",
        "\\\n",
        " \n",
        "Teorema (Convergência Global do Método de Penalização Externa) \\\\\n",
        "Seja {$x_{k}$} uma sequência gerada pelo algoritmo de penalização, onde $x_{k}$ é uma solução global do problema irrestrito transformado com $c=c_{k}$. Então $x_{k}\\in D$ se, somente se, $x_{k}$ for uma solução global do problema original. Sejam $f:\\mathbb{R}^{n}\\rightarrow\\mathbb{R}$ e $\\psi:\\mathbb{R}^{n}\\rightarrow\\mathbb{R}_{+}$ funções contínuas em $\\mathbb{R}^{n}$ e seja $v>-\\infty$ o valor ótimo do problema original. Se $c_{k}\\rightarrow\\infty$$(k\\rightarrow\\infty)$, então todo ponto de acumulação da sequência {$x_{k}$} é uma solução global do problema original."
      ]
    },
    {
      "cell_type": "code",
      "metadata": {
        "id": "fVjFrY96nTR5",
        "outputId": "a8875d39-3583-4b46-edc6-b313b248f10b",
        "colab": {
          "base_uri": "https://localhost:8080/"
        }
      },
      "source": [
        "function penality_method(f::Function,x::Vector,equalities::Vector,inequalities::Vector,unc_opt_method::Function,linear_method::Function;c=0.1,β=10,tol=1e-4,p=2)\n",
        "    ϕ = y-> append!([h(y) for h in equalities],[max(0,g(y)) for g in inequalities])\n",
        "    ψ= y -> norm(ϕ(y))^p\n",
        "    φ = (y,t)-> f(y) + c*ψ(y)\n",
        "    #L = (y,μ)-> -∇(f,x) + sum(μ.*[∇(g,x) for g in inequalities])) \n",
        "    x = unc_opt_method(y->φ(y,c),x,linear_method)[2]\n",
        "    while(c*ψ(x)>=tol)\n",
        "       c = β*c\n",
        "       x = unc_opt_method(y->φ(y,c),x,linear_method)[2]\n",
        "    end\n",
        "    return (f(x),x)\n",
        "end"
      ],
      "execution_count": 27,
      "outputs": [
        {
          "output_type": "execute_result",
          "data": {
            "text/plain": [
              "penality_method (generic function with 1 method)"
            ]
          },
          "metadata": {
            "tags": []
          },
          "execution_count": 27
        }
      ]
    },
    {
      "cell_type": "code",
      "metadata": {
        "id": "VJntXWyaVa5V",
        "outputId": "dc35f846-e61e-46a1-f998-07a05f2bf854",
        "colab": {
          "base_uri": "https://localhost:8080/"
        }
      },
      "source": [
        "penality_method(x->(x[1]-2)^2+(x[2]-1)^2,[0.5,0.5],[],[x->x[1]+x[2]-2,x->x[1]^2-x[2]],newton_search,newton)"
      ],
      "execution_count": 44,
      "outputs": [
        {
          "output_type": "execute_result",
          "data": {
            "text/plain": [
              "(0.9999555583948376, [1.0000222211111889, 1.0000111102469702])"
            ]
          },
          "metadata": {
            "tags": []
          },
          "execution_count": 44
        }
      ]
    },
    {
      "cell_type": "markdown",
      "metadata": {
        "id": "kP3VSL5e3BnM"
      },
      "source": [
        "# Modo de Usar\n",
        "\n",
        "   Sejam os dados de entrada $x \\in \\mathcal{R}^n , f: \\mathcal{R}^n \\to \\mathcal{R},g= \\{g_i:\\mathcal{R}^n \\to \\mathcal{R}|0\\leq i \\leq m,i\\in \\mathbb{N}\\}$ e $h= \\{h_j: \\mathcal{R}^n \\to \\mathcal{R}|0\\leq j \\leq l,j\\in \\mathbb{N}\\}$. Onde $x$ representa as variáveis de decisão , $f$ a função objetivo,$g$ conjunto de todas as desigualdades válidas($g_i(x)\\leq0$) e $h$ conjunto de todas as equações válidas($h_i(x)=0$), no caso somente para o método de penalidade). Vamos mostrar como chamar os métodos de otimização restrita(no caso temos as funções: barrier_method e penality_method) para resolver o problema de encontrar um ponto ótimo e  valor da função neste ponto.\n",
        "\n",
        "   Considere o seguinte exemplo, seja $f(x_1,x_2)= (x_1-2)^2+(x_2-1)^2,g_1 = x_1+x_2-2,g_2=x_1^2-x_2$ e $x = \\begin{pmatrix}0.5 \\\\0.5\\end{pmatrix}$ . Esses podem ser passados para um método da seguinte forma:"
      ]
    },
    {
      "cell_type": "code",
      "metadata": {
        "id": "oaPobGoBGrnm",
        "outputId": "3731e187-670f-4914-ea8a-5c552bea0460",
        "colab": {
          "base_uri": "https://localhost:8080/"
        }
      },
      "source": [
        "penality_method(x->(x[1]-2)^2+(x[2]-1)^2,[0.5,0.5],[],[x->x[1]+x[2]-2,x->x[1]^2-x[2]],gradient_descent,newton)"
      ],
      "execution_count": 51,
      "outputs": [
        {
          "output_type": "execute_result",
          "data": {
            "text/plain": [
              "(1.01059485367582, [0.9947711703997256, 0.9895188828705027])"
            ]
          },
          "metadata": {
            "tags": []
          },
          "execution_count": 51
        }
      ]
    },
    {
      "cell_type": "markdown",
      "metadata": {
        "id": "haLElc1BHRR-"
      },
      "source": [
        "\n",
        "\n",
        "   Onde o primeiro campo da função implementa uma função anônima para representar $f(x)$, com formato <i>(vetores)$\\to$ (função expressa)</i>. Devemos utilizar de operações aritméticas padrões sobre um vetor[$i$], que refere-se a coordenada $i$ do vetor(em julia começa de 1 até n), para expressar $f(x)$, usamos esse mesmo modo para especificar $g$ (Atenção para o sinal da desigualdade, multiplique por -1 caso $g_i\\geq 0$, fazendo $g_i=-g_i$) e $h$. O campo seguinte do método faz referência à $x$ implementado como um Array'([$x_1$,$x_2$]. Os dois campos seguintes usam Array's para implementar o conjunto g e h , aonde seus elementos são funções anônimas.\n",
        " \n",
        "  No penúltimo campo temos uma função referenciando o método de busca irrestrita(no caso método da gradiente) usado, temos quatro referências implementadas gradient_descent,newton_search,quasi_newton_BFGS,gradient_conjugate_PR. Elas podem ser chamadas da forma que foi definida no [Projeto 2](https://colab.research.google.com/drive/1M7-OvZIy7IrNnfRISIJWpaCJilva6jUA#scrollTo=69BxyOziMVFf).\n",
        "\n",
        "  No último campo temos uma função referenciando o método de busca linear(no caso newton) usado, temos três referências implementadas secao_aurea, armijo e newton. Elas podem ser chamadas da mesma forma que foi definida no [Projeto 1](https://colab.research.google.com/drive/1Nt6ffNGr-3ej0gCgIW2sG5DYSnJ7Pywh?usp=sharing)."
      ]
    },
    {
      "cell_type": "code",
      "metadata": {
        "id": "VyOJTPwVHipa",
        "outputId": "095493da-53c1-4861-e0db-95ff1acfe734",
        "colab": {
          "base_uri": "https://localhost:8080/"
        }
      },
      "source": [
        "penality_method(x->(x[1]-2)^2+(x[2]-1)^2,[0.5,0.5],[],[x->x[1]+x[2]-2,x->x[1]^2-x[2]],gradient_descent,newton)"
      ],
      "execution_count": 52,
      "outputs": [
        {
          "output_type": "execute_result",
          "data": {
            "text/plain": [
              "(1.01059485367582, [0.9947711703997256, 0.9895188828705027])"
            ]
          },
          "metadata": {
            "tags": []
          },
          "execution_count": 52
        }
      ]
    },
    {
      "cell_type": "markdown",
      "metadata": {
        "id": "5Ogm8fHEIAAJ"
      },
      "source": [
        " Na proxima seção discutimos os parâmetros para cada método. A saída do método  retorna uma tupla da forma ($f(x^*),x^*$), ou seja, o valor da função objetivo no melhor ponto encontrado e o ponto. Veja que um novo parametro limitando o número de iterações foi usado para controlar melhor o método de barreira em pontos inviáveis."
      ]
    },
    {
      "cell_type": "markdown",
      "metadata": {
        "id": "LClOJmzQIP4b"
      },
      "source": [
        "# Parâmetros dos Métodos\n",
        "\n",
        "   Aqui colocaremos as funções dos métodos implementados e a descrição sobre seus parâmetros. Parametros depois do caracter \";\" são chamados de argumentos palavra-chave. Esses devem vir depois dos argumentos posicionais e da forma (palavra-chave) = valor. Algumas palavras-chave estão em unicode para acessar estas no julia basta escrever da mesma forma que em latex(ex. \\epsilon) e pressionar a tecla 'tab', ou seja , $\\epsilon$ = \\epsilona + tab. No ambiente Colab para inserir os caracteres basta copiar das funções, pois o mesmo não possui suporte para inserir caracteres unicode."
      ]
    },
    {
      "cell_type": "markdown",
      "metadata": {
        "id": "kQSMLQYkN5vQ"
      },
      "source": [
        "barrier_method(f::Function,x::Vector,inequalities::Vector,unc_opt_method::Function,linear_method::Function;t=10.0,β=0.5,tol=1e-4)\n",
        "\n",
        ">  Algoritmo usando função de barreira inversa. O ponto inicial precisa ser viável. Possui problemas com pontos inviáveis, foram feitas configurações de passo e métodos para lidar com eles.\n",
        "\n",
        "* t -  Multiplicador Inicial da função de Barreira Inversa.\n",
        "* β -  Fator de escalonamento do fator c.\n",
        "* n_iter -  Número de iterações máxima usada pelo método.\n",
        "* tol - Tolerância utilizada para verificar convergencia. Com menor precisão mais rápido converge. \n",
        "\n",
        "\n",
        "---\n",
        " penality_method(f::Function,x::Vector,equalities::Vector,inequalities::Vector,unc_opt_method::Function,linear_method::Function;c=0.1,β=10,tol=1e-9,n_iter=100,p=2)\n",
        "\n",
        "> Método de penalidade clássico. Não possui problema com pontos inviáveis.\n",
        "* c -  Multiplicador Inicial da função de Penalidade.\n",
        "* β -  Fator de escalonamento do fator c.\n",
        "* n_iter -  Número de iterações máxima usada pelo método.\n",
        "* tol - Tolerância utilizada para verificar convergencia. Com menor precisão mais rápido converge. \n",
        "* p - Fator de exponenciação norma euclidiana.\n",
        "\n",
        "---\n",
        "\n",
        "\n",
        "\n",
        "\n",
        "\n"
      ]
    },
    {
      "cell_type": "markdown",
      "metadata": {
        "id": "BftQ8HyFXRkJ"
      },
      "source": [
        "Todos os métodos retornam a função objetivo e o melhor ponto encontrado. Vale ressaltar que podemos passar em linear_method uma função de passo constante ou funções com passos customizados aos métodos."
      ]
    },
    {
      "cell_type": "markdown",
      "metadata": {
        "id": "iU2IfTTKIiHm"
      },
      "source": [
        "#Testes\n",
        "\n",
        "Nesta seção definimos as instâncias de testes que usamos e quais os resultados os métodos encontraram."
      ]
    },
    {
      "cell_type": "markdown",
      "metadata": {
        "id": "oKuKrqWzIkGo"
      },
      "source": [
        "<h2>Instâncias</h2>\n",
        "   As instâncias dadas são definidas em termo de função objetivo, valor inicial de $x$, desigualdades $g$ e igualdades $h$. Apresentamos abaixo as instâncias em código separadas por parametros que seram usados pelos métodos.\n",
        "    \n",
        "\n",
        "\n",
        "\n",
        "\n",
        "\n",
        "\n",
        "\n"
      ]
    },
    {
      "cell_type": "code",
      "metadata": {
        "id": "r7OMNKRKHlAi",
        "outputId": "738414a9-37ad-4487-ce96-e76750ebd0b7",
        "colab": {
          "base_uri": "https://localhost:8080/"
        }
      },
      "source": [
        "#instancia 1\n",
        "f1 = x->100*(x[2]-x[1]^2)^2 + (1-x[1])^2\n",
        "g1 = [(x->x[1]-x[2]^2),(x->x[2]-x[1]^2)]\n",
        "x1 = [-2,1]\n",
        "\n",
        "#instancia 2\n",
        "f2 = x->x[1]^2 + 0.5*x[2]^2+ x[3]^2 + 0.5*x[4]^2 -x[1]*x[3] +x[3]*x[4] - x[1] - 3*x[2] + x[3] - x[4]\n",
        "g2 = [(x->x[1] + 2*x[2] + x[3]+x[4]-5),(x->3*x[1]+x[2]+2*x[3]-x[4]-4),(x->1.5-4*x[3] - x[2]),(x->(-x[1])),(x->(-x[2])),(x->(-x[3])),(x->(-x[4]))]\n",
        "x2 = [0.5,0.5,0.5,0.5]\n",
        "\n",
        "#instancia 3\n",
        "f3 = x->(x[1]-10)^3 +(x[2]-20)^3\n",
        "g3 = [(x->-(x[1]-5)^2 - (x[2]-5)^2 + 100),(x->-(x[1]-6)^2 - (x[2]-5)^2),(x->(x[1]-6)^2 + (x[2]-5)^2 - 82.81)]\n",
        "x3 = [14.115,0.885]\n",
        "\n",
        "#instancia 4\n",
        "f4 = x->0.01*(x[1]-1)^2+(x[2]-x[1]^2)^2\n",
        "h4 = [(x->x[1]+x[3]^2+1)]\n",
        "x4 = [2,2,2]\n",
        "\n",
        "#instancia 5\n",
        "f5 = x->(x[1]-x[2])^2+(x[2]+x[3]-2)^2+(x[4]-1)^2+(x[5]-1)^2 \n",
        "h5 = [(x->x[1]+3*x[2]-4),(x->x[3]+x[4]-2*x[5]),(x->x[2]-x[5])]\n",
        "x5 = [2.5,0.5,2,-1,0.5]\n",
        "\n",
        "#instancia 6\n",
        "f6 = x->(x[1]-x[2])^2 +(x[2] -1)^2\n",
        "h6 = [(x->x[1]-2*x[2] +1)]\n",
        "g6 = [(x->0.25*x[1]^2+x[2]^2 - 1)]\n",
        "x6 = [2,2]\n",
        "\n",
        "#instancia 7\n",
        "f7 = x->x[1]*x[4]*(x[1]+x[2]+x[3])+x[3]\n",
        "g7 = [(x->-x[1]*x[2]*x[3]*x[4] + 25),(x-> -(x[1]^2)-(x[2]^2)-(x[3]^2)-(x[4]^2)+40),(x-> -x[1]+1),(x-> -x[2]+1),(x-> -x[3]+1),(x-> -x[4]+1),(x-> x[1]-5),(x-> x[2]-5),(x-> x[3]-5),(x-> x[4]-5)]\n",
        "x7 = [3,4,4,3]\n",
        "\n",
        "#instancia 8\n",
        "f8 = x->x[1]-x[2]-x[3]-x[1]*x[3]+x[1]*x[4]+x[2]*x[3]-x[2]*x[4]\n",
        "g8 = [(x->x[1]+2*x[2]-8),(x->4*x[1]+x[2]-12),(x->3*x[1]+4*x[2]-12),(x->2*x[3]+x[4]-8),(x->x[3]+2*x[4]-8),(x->x[3]+x[4]-5),(x->(-x[1])),(x->(-x[2])),(x->(-x[3])),(x->(-x[4]))]\n",
        "x8 = [1,1,1,1]\n",
        "\n",
        "#instancia 9\n",
        "f9 = x->(x[1]-10)^2+5*(x[2]-12)^2 + x[3]^4 + 3*(x[4]-11)^2 + 10*x[5]^6+7*x[6]^2+x[7]^4-4*x[6]*x[7]- 10*x[6] - 8*x[7]\n",
        "g9 = [(x->x[1]^2+3*x[2]^4+x[3]+4*x[4]^2+5*x[5]-127),(x->7*x[1]+3*x[2]+10*x[3]^2+x[4]-x[5]-282),(x->23*x[1]^2+x[2]^2+6*x[6]^2-8*x[7]-196),(x->4*x[1]^2+x[2]^2-3*x[1]*x[2]+2*x[3]^2+5*x[6]-11*x[7])]\n",
        "x9 = [1,2,0,4,0,1,1]\n"
      ],
      "execution_count": 31,
      "outputs": [
        {
          "output_type": "execute_result",
          "data": {
            "text/plain": [
              "7-element Array{Int64,1}:\n",
              " 1\n",
              " 2\n",
              " 0\n",
              " 4\n",
              " 0\n",
              " 1\n",
              " 1"
            ]
          },
          "metadata": {
            "tags": []
          },
          "execution_count": 31
        }
      ]
    },
    {
      "cell_type": "markdown",
      "metadata": {
        "id": "3c5h7o0mKL2L"
      },
      "source": [
        "## Instâncias Método da Barreira"
      ]
    },
    {
      "cell_type": "markdown",
      "metadata": {
        "id": "iwkZ7VuBKaJG"
      },
      "source": [
        "1.\n",
        "\n",
        " ![image.png](data:image/png;base64,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)"
      ]
    },
    {
      "cell_type": "code",
      "metadata": {
        "id": "PPRrkNVpLHdU",
        "outputId": "21bc1ee8-c856-4d58-e866-298752ebaf88",
        "colab": {
          "base_uri": "https://localhost:8080/"
        }
      },
      "source": [
        "barrier_method(f1,x1,g1,(f,x,linear)->gradient_descent(f,x,linear,n_iter=500),newton,t=300)"
      ],
      "execution_count": 65,
      "outputs": [
        {
          "output_type": "execute_result",
          "data": {
            "text/plain": [
              "(3.5066395743146755e-5, [1.002079492666194, 1.0036088539792365])"
            ]
          },
          "metadata": {
            "tags": []
          },
          "execution_count": 65
        }
      ]
    },
    {
      "cell_type": "markdown",
      "metadata": {
        "id": "xozR2HMZdBIF"
      },
      "source": [
        "2.\n",
        "\n",
        "![image.png](data:image/png;base64,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)"
      ]
    },
    {
      "cell_type": "code",
      "metadata": {
        "id": "eUGhj_NIdA2j",
        "outputId": "2290f9dd-4139-436c-cbe4-d4ce97b605eb",
        "colab": {
          "base_uri": "https://localhost:8080/"
        }
      },
      "source": [
        "barrier_method(f2,x2,g2,newton_search,armijo)"
      ],
      "execution_count": 33,
      "outputs": [
        {
          "output_type": "execute_result",
          "data": {
            "text/plain": [
              "(-4.68172223408539, [0.2727374658945035, 2.090876384025888, 3.67142487771465e-5, 0.5454014832968413])"
            ]
          },
          "metadata": {
            "tags": []
          },
          "execution_count": 33
        }
      ]
    },
    {
      "cell_type": "markdown",
      "metadata": {
        "id": "xlXkTACOeSIR"
      },
      "source": [
        "3.\n",
        "\n",
        "![image.png](data:image/png;base64,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)"
      ]
    },
    {
      "cell_type": "code",
      "metadata": {
        "id": "BC6S9mjFeSes",
        "outputId": "4386149a-1e80-4e25-aeda-1aa7dc9ea09a",
        "colab": {
          "base_uri": "https://localhost:8080/"
        }
      },
      "source": [
        "barrier_method(f3,x3,g3,newton_search,newton)"
      ],
      "execution_count": 75,
      "outputs": [
        {
          "output_type": "execute_result",
          "data": {
            "text/plain": [
              "(-6961.813802875752, [14.095000031299115, 0.8429608538216018])"
            ]
          },
          "metadata": {
            "tags": []
          },
          "execution_count": 75
        }
      ]
    },
    {
      "cell_type": "markdown",
      "metadata": {
        "id": "VYmx3sb-sxc9"
      },
      "source": [
        "## Instâncias Método da Penalidade"
      ]
    },
    {
      "cell_type": "markdown",
      "metadata": {
        "id": "TiN99GCys8GV"
      },
      "source": [
        "1.\n",
        "\n",
        "\n",
        "\n",
        "![image.png](data:image/png;base64,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)"
      ]
    },
    {
      "cell_type": "code",
      "metadata": {
        "id": "qWhYR81ks8R_",
        "outputId": "2b2b62f7-c0fc-48c7-da1b-155c376c7e9e",
        "colab": {
          "base_uri": "https://localhost:8080/"
        }
      },
      "source": [
        "penality_method(f4,x4,h4,[],newton_search,armijo)"
      ],
      "execution_count": 35,
      "outputs": [
        {
          "output_type": "execute_result",
          "data": {
            "text/plain": [
              "(0.039920119840199754, [-0.998001998001998, 0.99600798801598, 2.4314586365084114e-24])"
            ]
          },
          "metadata": {
            "tags": []
          },
          "execution_count": 35
        }
      ]
    },
    {
      "cell_type": "markdown",
      "metadata": {
        "id": "R78k3QqAW_vj"
      },
      "source": [
        "2.\n",
        "\n",
        "![image.png](data:image/png;base64,iVBORw0KGgoAAAANSUhEUgAAAiIAAACgCAYAAAAxUwfQAAAgAElEQVR4nO3d308b17428PkDfMMlF0iRLCQuIkUVykUqFJELoh5FwigVQkkjC6JdAWorIFEIrQpEDRA1g5JtK8XtbkYUKz/cFCvvqdv3uPvgvYs5gp7E7XYUrGwnhW5ocQIENn4NgthmnvfCJvyywTb2jIHnI/kiDpjlNWOvZ9Z8Z40AIiIiIpUIajeAiIiI9i8GESIiIlINgwgRERGphkGEiIiIVMMgQkRERKphECEiIiLVMIgQERGRahhEiIiISDUMIkRERKQaBhEiIiJSDYMIERERqYZBhGhLYQSGe9FplHCzpQY1hh/hC8lqN4pUwX1BWexvRclzGP7aCGPP52ipqoOh/w+EFPrTDCJpJSPkc6Cz9Rt4F5P8wCw+gaX1Bhy+pcw0LWE7eA+71VZ9HxjElda/YkYGEPRA0h1GlXUMyvXMPtweasrqfQFA6Hc4Oq/C4g0o+Vczh/2tIBmL3m/Q2umIEeiWERgyotX+HDJkBL0SdLm1sE4EFWmZ4kEk7JXwluYNnLX+hmWl//gmMkK+PlxpaMdfxGZc6X++o51cDrhgrPoUztlwar8/+yNaq0xwB1L7/XTY6XvYrWL3vYx5ZxtOGn9GQAaARXilcgg6M0YV+jbcr9sjc2SEfH+D4WIz2tvOobz4bTRKg+u+mLN1X4D8b7iN9Wh1Tik7GKeDPIOHYi1E1+YBnf2dAXH7O4xZ56eoMrqi/bpiBs7mGhjdc5H3uvwE0vF86MzPFHnvigcReepHdFRUosO5s0E/LYIeSLpjaP7xH7DVFkJTbcNUyi/mh9tQjSbH5A7eVxgzjks4afgZCym/xk6k4z3sVrH6fhl+5yUU5H8Ex2wYQAg+azUErQiXInOW+3l7ZIY8O4ArTb0YC8kAZIQmbKgvOIAS8Sf4X3dyNu4LMhbcN3CyqS8yQ7BrhBEYG4Kl5SS0QnHMIML+TqcE+luehKOpGga3f82TL+FsPor8xj7MAgDGYdVroRVdipye2cenZmS8chvxZs552Gdm4Lnfg/ueuZS/8OUJK6qOGuF+tcO99tU/YDj6vmJTYmul7T3sVtv1vTwJx8UiFDT3wx/7J2L9EkI+Dx6lcMpN/e2xBN8jzx46L/8KY5YWiK65Nc/Nw2M6CSFnwzR0RvYFACEfHj3yJf/lLo/BWnUKBvduOkWwjID7G3SabuFby2WciBtEwP5Oi0T7OzL2Ha2yYiLOR1ue6cPFgqNodr7MaItX7OMgEp3qOy7Bu+NzREsYMVfiqOkxdj6BvgCP6W0cl54ofOoqne9ht9qq78OYHRShq/oKw0mdOgvBZ62D3jqeZFuyYXuMw6qvg9WnVMlapr2Ava4YJ5q+xWhw5RtYxtJQOw4Ih1Bnf7HmZzOxLwDwWaHXW+FLsuXLI2aUHTXBs1s/nD4r9FsFEfZ3em3X3+HHMBWdguRd3Px/8jQG28+gSnq04fRN5uzjIPIC9rpDyGt2Yn6nLyWPwnLqLbQNzW3/s9u/WOSLUclzoUCa38NuFa/vwwgM30JT+3cYCQQReD6ZxAc0xSCSFdtjrwWRl3A2F0Fz7BoeBlaHu5BLhFbQbthGmdgXkOLA+ApjlrPQtg1B7VL2lG0bRNjfabVtf89hqK1kcw2IPIfh7k/QbnuKgBzA8+eBLK0R8Q/hz7pCaAQt9HcH4JSMMJkt6GnTo6TmFoZnxjY/t5Ji/UMwnCqGVhBWzz1t93ppL9wMwufshni5GsWaPBRXt0IUDbC4/536S/odaMyt3vCF/QrjtkvQl0fer6ApRFmXCwuQseDqQllhLjSFJ3BGfwm28VfrXk4et6Ai90M4/ArOicR8D0Dk1MIQbhmMkMzXUVcpou+xE90dBnx59U8oqbmr8tUc6W3f5r4PIzB8D523o0cH8jOYz99JIiSmGETibg8AoQkM3boBg9QNQ10t2vt+xmB3JwxfdqCypB5301bhn0oQWYJv6C4MhpswG86hst2Ox4NmdBi6cLWyDDV3nyDGMZiKljBqfgeC5gzMI+uHnfTvC0hxYJyGo7E4zj60S/p724Fxl/S3Yp+9Hdq2v4MYt1Qht9GxeqpLnsPw7c9wezhSoiCP3sH57C5WHYdVX4BDR87j3lh0N19+Aum4Fm8cOYev1z13EKcso2veTKwimHivt/F300cet6BCeAsG947nQyCPmqHLa4VzPkZL5efob/0PaIQjqLeNIQRAnvo7Lp014qE/Tsiad6I57x2YR7fI4wtuSLWV0Ov1iT1qu+FeiN+Tcd9D8CnuXbNFi/sCcInFEA5+Aqd/Hl6pAjklxi1fN+PS3b51fS9j0XsLlfkaCILw+pHcLFpqQST+PrWAkXtf4H70cxI5mj+KFufLyBVpOWUbitB2ItkgIiM4ch/X7o9EPtshF0StBgdb+uEPP4H0VgFKVCvEjmPxEUylB3GsfQCzG7s67fsCUhsY5Wcw64rR7JzZ+B+7p78TCCLZ399KfvZ2KIEZqHlnK/Jez0AF4DVXI39NXwvCkRh9kBk7CCLa9Wlqi+c2h47Yz23/u+kS3Qg552GfWQ0DcuAxvu68gZ6braiquYH+lQLDbRZ6CblEaLeq5l70wFz5BgRNOQw//g1S03X0bVW8GHJB1G7zoU2zeO8h7LmD668LlrY/nSX7f4JY8RncCp1bTbh9iS7Wk/a+Ty2IxN2nwsPovj4Q/ZyEMWM/j5w4ITju/pywZIPIAjzdN+FcOaKdsaMuJ86XmTyH4VtX0C71RI4sHb8rtnjSqgD+KVXiYGWc2oNMfA5TGRjjtiOJ/l4hT8DeoE/LAVhSEgki2d7fCX/2QvBZG1Da9j1GZifgMl+AriXJItudSqC/tx23FLSjIJJowEjfc+kSLVQtWluMNIOhK2I0mCzAK51GbpUVE/L2C70kskHlqb+j9VgeBOEw6u2+rWd5siiIrDPvRHPexqK+KHkK7vtdaDxRkNAldsujVpxLdDan6gaGEjlNFbd9SSzWs5O+jzlLdQblxQXQFr+d1CxVYl8SM3A2H0FOnR2bh554+3Os15Gx4O5G7aa+fxvF2gIUl5/Z8HwlaiX3NkfascP+iuWR2/jg88cIIjr7s/GqlXWWMGr9OOHZvyrDUAJf+gkUQO7oc+iHWzq3uX3lxdBqi1G+qd3nIMU7mk6oHVv3d0QYs87LOLxdIFj+FdZzVQn293swDCVw1JzxIKJ0f2/12YteaiwIEIRcHN6uxECl/mYQUT2ITMPRWLh+BmbeieaTn71eVGfZK+G48A7Mo75tF3oJe0wo2m6DhsZgazgG7QENNKWfbb1oWcgFUauDyaPcpGoi7yHsMaFI2PqUkZo7d/z2JbFYT9r7PrUZkYT2qfBjmIq0sd9H3P05mVmRnRSrLsBj0sVZgCryRa15S4I3jGg9jHLTwJFp/9uore1ZHSBCM/C93NA3mfgcpnKEHn4MU1HJNgPjVv298iO/4IsrH+L9A8oe5ABIIojskv7e6rOHEHxWk7pF3okGkaLsuDJofwaRWDuRvx/NBW+i0TEZ+ffrDfnb9gu9+KzQC3EKC4HXlcgdfaOY6G/HMY0G+TXWaF1DDD4r9JoPYJvaYg9Jc43Itu9hpahvzY67PNKLaz+sn31QL4hs1b4kFutJpO+TkmKx6rbbIzqTIKz54l5+itvX+iJHaHH352QGoB0EEfkZzDotil5ffryEkdt/wQ/Ro3U58BQDrsj6DvKoGboYxaKZISPk+290NK09SpWxNHQDlzcGobTvC0ixeHIcVn3h1vvQNv0NLMB7qwvfjQ0qPtsKILH9bxf195afvV0RRKIHAztaxDN99mcQmbKhWlO0xaWRYcw4PkZBwaXV869RMRd6CT+GqehEnPOuCxixXESt2ROtXl/AiKUW+ULehtUc17ycx4QipZNqrPcgj8NWezgygAc9kHQHIKx8qOUpDBglDG5YelzRIJJC+4CtF+tJf9+nGERi7lNB+GwNyM//CI7ZALzSaWheh5UwZgduwjg4HeMILf7+vLXkgojs+xa1+ZHwE/RK0GlWL4mVZwdgNA6uKwiVp934vrcbbadOo6VPmRoROfAIUtVpNN68B6vVGn18A6nx3KY1FTLyOUxpYFyAx1SGNwzudWvKJN7fMkJj93HlthdBFU77AkgoiGR3fyfz2QvBZ72A0noRPb3daK+/BMsOFstMSULrtpxcE1zVlXwQCbhhES+gPF8DTXE1Lt9wYHwutefaLG4EEn29tF3JGr1efYvkLc8OoF33HqThDTtP3IVe/o2hthMbrvCZg8v0QfTy3XwUN3yLcTn6fNcZFGoECEI+isur0GT715rfe4Uxy5/whvhQ4WvYY7wH+TmcHadR2mhAV0sH7j4YgLnhAsQ7PTB19sAZo/hR2SCSfPu2XqwnE32f6oJmsfapEKacInSljejquoyWu/+DB+aPUC/2wGwyQnLGLsCNuz9vK8kgMvUjOnTlaOwyoqXlLh48MKOhvhN3zCZ0SgOxV2iVAxjrN+LU8ctbF3CnxSweiqXQrLsyIPrYVFuRoc9hSgOjjIWhDhw6ZcHY2iCXaH/LE/jh2h0ML8qK158tjztwQ7yKtrpSaIVcHNZ/iKsxl0vI9v5O5rO3jIDHBU8gjJVVTIuOf45hBVZITri/5VFYTukgurLjKp99uKBZdAo/zoqqcuARuptE2Eb8kAOTeL4yfbvlQi8yFlydKNpiydyEqba0cHreQzYVQG2y3WI9Gen7VINIerZH3P05IZla0CyMgHcIA6P+SP/Lv8FSoU1++e5MytTnMMWVPrHwAGJRKrd+WEZg6Cp0dZ+h12qF9RsR+tyD0It38L07i27mtmf6GwCWMP3bxOqBjs8KvaBszd921L99xHr7JojIgSf4rvs7eAIv4Gg8ijLz001LCcuBR7jdeS967ngJo+aOSHFfIgu9yGOwnn0XkncnO1vkio6TZ9MQaFL68zt/D1kbRLbdhpnq+9TvNbPT7RF3f05Ypu41MwFb9cHVqW/5Gcy6AzjYNpgda15k8nOY6r1PEMSEtR4nJQ92dBcqtU7NbGmP9feMHXW5qzVP8rgFFYrVQCViAV7pXZy1jmVNEN0nQSSMKdsH0OQ3wPbs72g72gzHxkvcVtb6WDtdm9cK5/z/S3ChFxnBka/x/od2TKa6dUOjsDY0wTKi1tfxDt6DPAX391bcaatATk4F2u5Ys+iIK4HFelTv+1h2sD3i7s/ZsEXCCHj+E0bRCMlyDz1t76Li4r3oVHYWyMp9AUDwKSzvt8E+mVrKl6fd+P5OG8pz8lHedgfOUYXXEolnr/W3PAfP/S6IJjN6LX9BW/1FGOOtW6S4SL1Qw3tfYySYDd8FEfskiETOp3a2/BlftjXhU+fzDA2QS/D1XUfTLU8KyyoH4L11GR0KFe3Ft5P3sFtlS9/Hsh+3h5qyeV9YueJH7dsqpBP7W1GLHtzabkFNFeybIKKcJUw9GsbvyabN4B949GgySz6MKb6H3Sqr+j6WfbY91JT1+4KM0NQTPPp9j8RS9reCZAR/H8ajqewKIQCDCBEREamIQYSIiIhUwyBCREREqmEQISIiItUwiBAREZFqGESIiIhINQwiREREpBoGESIiIlINgwgRERGphkGEiLYmz8HzdRvqGi9DvHoBFSXvwpA1985IgTwJx8XTyt/4LfQH+o0X0SB+hd4eEQ0NXejPsqW2idTAIEJEWwjCZ/sETbaxaPCQseDqxBFNGQxuv8ptS0UY/qFPcURQ+g60frgNp1D2+m6ukTvOlh2/jof+LLnZH5FKGESI9pNkb4u+/ATS8cOoMP6E2ZVb3cw70ZwnILfRgV0XRYIedFcdxSGFg4g8aUNNzjswj66ZAZGfwaw7jBrbH1lyl2oidTCIEO0nPiv0eit8if788m+wnn0DmjIzRpajz4VcELUChGReJyssYuxrEV/8103oFQ0iy/A7PkRu7odw+JfXPD8DZ/OR3RnoiNKIQYRoP0k2iMQgj5qhEw6gzPwUy9v/eNaQJ3/AJ9cG4fdZFQ4iSxg1vwNBK8K1bioqAJdYDKHCgnFOidA+lqEgEsL0w240N/0Z5t5eWG5+io9rTqPGOh7/V+Q5DFtEtBp70NvzKWpOncfngxO7tyCOKGEyQr4h3DIYIZmvo65SRN9jJ7o7DPjy6p9QUnMX3sU0jVQ7DiIBDJsqkFOyobYhNIGhWzdgkLphqKtFe9/PGOzuhOHLDlSW1OOuV+HC0I3kGQxdM8IxE470gaJBJBo44gWRTc8T7S+ZCSILg2g70oGhpZUvzzD8zk/xXtwgImNh6AqO1tswEZIByAh6PkdJTi2sE8GMNJEoawSf4t41G8ZCMl4PTgc/gdM/D69UgZwSI9wL6gYR+d+Pcd/Uiba6UuRvDCFYwMi9L3B/bBEAEHKJ0ApH0eJ8ibBXwls5ahe2ylgc7kHr179GDmwSDSILbki1ldDr9Yk9arvjbCcGEaKtZCaIzNhRl/sWLlp+wVQo+sGc/QnWgak4vxDGrOMj5Oc3wj4V/USGXBC1Bai2TWSkiUTZIuy5g+vOl9F/vYC97hDymp2Yj/Pzsv8niBWfwZ3KxRY7nREJTcJt+RAlxy7A4pmLFFmGh9F9fSBa5xDGjP08cvJa4ZzfPCjLgcf4uvMGem62oqrmhjKXrwa9uPXRbXiD0fZwRoQoq2To1EwA3rt1OKwRIAgCNIWn8LE0CF9oq6O6MALe72G8WIvqxg6YvroCfa4W+q1O5xDtNfNONOcdQp39xeb/k6fgvt+FxhMFCQxefrilc5uP2suLodUWo3zTEf05SInOWsh/wFZzEMLhKxgKbKwSiRRg5tTZMbPpF2cwdEWEfSYMYAFe6TRyq6yYiPe1sPwrrOeqEpyReA+Goc1/EQhh0v5nGF1zq09lW42IzoxR1ojQPpaZIBKage/lEkLT/8SA/R4ksQ4ntAdQYvgZCzF/IYzZwas4dqQJ90f8kaOskAuilkGE9pewx4QiYcNlnhuEXCK0qR5FJzUjIiM4YkHV4XJ0OJ+vucQ0OoDGGszDj2Eq0kJnfrb5ktR5J5pPfgZ3IDKVs+yVcHyb97pj4ccw/ccpNF4VIYrRR7MehYIWJ+raIIrfwL0pTKVb9KqZnPPRELYiMvvFq2Zov8tMEPFZ8ad1U8vRRZDeMMSeTl5+Aul4/vovrzVBJOy+g5vueBPVRHtF9Mi5yARP9HOyPNKLaz+snx1RLohET7MIhai1ja8JFtNwNBZC0JyFZezVut+IXFGjg8kTPeRYforb1/oisyP+fjQXvIlGx+RqWxRfWCyJv5u2GpGVdUTKIXkXV59cfgLpeCHXEaF9L2NBRF9wEfbJ1W9KedSMkzU2TMqAPDsIQ+UZnLM+i6wyuOkoamX1wwOosIxicegmuhhEaC+Sx2GrPYz8xj7MBj2QdAdW1+eQpzBglDA4uz69KxdEIvUo185143FgpQ0yQhM21BccQIn4E/xyED5bA/LzP4JjNgCvdBoaoRpWXwhAGLMDN2EcnI4x0IYx4/gYBQWX4PQrexFwJCwpHIDkaQy2l6HE8AsiUUTGotuIkk2Fv0T7T4aCyH3U6C/BIF5Fl/kb9JqNaG358nVhmuz7FrX5a0/VhBHw3MPF8nfQaLoNi3Qd4tc/49d+EbriMlS3fouRII8ZaA+Sn8PZcRqljQZ0tXTg7oMBmBsuQLzTA1NnD5wxijmVDCKRS4sHIV08C/2FyxDbzqHixBk033oYLUQPYcopQlfaiK6uy2i5+z94YP4I9WIPzCYjJGfse9LIswNo170HaXhOudmA5TE4boi4XH0MGiEPxdWtEG84MK5QDpIDT/Gd2IB63muGaB0uaEa0yygbRNJPDjxCd5MI24gfcmASzwOcESDazxhEiHaZHQWRZO81k2Zy4BFud97DcCCMSE1MR2aLVYko6zGIEO0W8hTc31txp60COTkVaLtjxffuqd1T6LjogbnyDQiCsPqIs94IEe0fDCJERESkGgYRIiIiUg2DCBEREamGQYSIiIhUwyBCREREqmEQISIiItUwiBAREZFqGESIiIhINQwiREREpBoGESIiIlINgwgR7S6h3+EwNKO5/RNcKD+O0savMLQr72K7BF9/FxoaRPT0fgWx4SKM/bHvVky0lzGIENHuIU9j8Eobvh5bjPw7NAZb/RFoSq7joX833cVXxoLbiONlErzB6L12gh5IZRUQH87snvsHEaUBgwjRniUj5PPg0a6cLYhNHruH98UHWFh9BkHP5ygRClBlHds9A7j8B2w1h6EzP1vT5iWMmt9BTo0Nk7vmjRDtHIMI0Z4Vgs9aB711XO2GpEkYM/YLKDjRAtvoahTB0hDaDgjIqbNjRr3GJcfvQGNuIRod02uelDHvbEVe7odw+JdVaxqR0hhEiPasvRZEluF3XkKBphTiw9nVp0MuiFoBgt4Kn3qNS4o8aoZOKIboCqx7PuQSoRWqYBkPqtQyIuUxiBApTkbIN4RbBiMk83XUVYroe+xEd4cBX179E0pq7sK7mI65+RSDSGgCQ7duwCB1w1BXi/a+nzHY3QnDlx2oLKnHXW9g+9dQUGRQP4Ay81NE5hGU6t/URQJHvCCy+XmivYxBhEhpwae4d82GsZAMIACXWAzh4Cdw+ufhlSqQU2KEe0GtILKAkXtf4H60GDQyMB5Fi/Mlwl4Jb+WUweD2p6Ft6RLAsKkCOceuYnA2Wqyaqf5dcEOqrYRer0/sUdsd9+8wiBCtYhAhUljYcwfXnS+j/3oBe90h5DU7Mb/xB+U5DN+6gnapJzIz4fg9yUs7Uwgi4WF0Xx9AJGqEMWM/j5y8Vjjn4w/c8uR/oeGYEW7FL1qRsfjPblQcfBfS8Nzros+E+9d3H9Wl7fhuZBqTLjPqde1wKlSbwSBCtIpBhEhN80405x1Cnf3Fpv9aHrmNDz5/jCCipx9yamGdiFM7EPNo/QzKiwugLX47qaP1VTNwNh/ZughUnoKz5RgErQjXFilpedSKc4nOJFTdwFACgUCeHUC77r11IWSTLfoXPiv0ggBBEKA5/AHMW71Omm1dI/IOzKN750onou0wiBCpKOwxoSjmwBOCz1oNzVsSvGFEr7I4gmZnMteF7LBYNfwYpiLthktM15Kx4O7BlYtncWCbIJJ2ix6Ya8+vCSFLeOmb2TRjFL9/AfhsENUq5PU70Ji7MSBFZ6B41QztMwwiRKqJrBshFJngiZ7WWB7pxbUfIoOTHHiKAZcPIUSPoDVnYB5J5kh5Z0EkctSug8kTvVR2+SluX+tbnR0JPsGtT/8vxh6I0CoZREK/o6/jE3SvncFYGsKnlzeeftm6f5MOImmsEYmsI1KI49ITrEaORXilcq4jQvsOgwiRkuRx2GoPI7+xD7NBDyTdgdXLTuUpDBil1aJLAPK0G9/3dqPt1Gm09GW6RiQIn60B+fkfwTEbgFc6DY1QDasvBCCM2YGbMA5ORwf/RYzdM+L2rwuR0wlKBRF5DsPSe9A1foFeqxXWlYf0Ic5KT7CcTP/67uOD0nqIPRb0tF9Ak+UxAooFgDBmB6/iWIkR7pUreBZ/gaHkba6sSvsOgwiRkuTncHacRmmjAV0tHbj7YADmhgsQ7/TA1NkDZ6xVUOUAxvqNOHX8MvqSWiU12SASwpRThK60EV1dl9Fy93/wwPwR6sUemE1GSM7V+6DIk/+Na92PsAgoGESWEXh4Dcc0kbqO9Y/oaY5k+jfgxU+e6KzKq3/AUFQB0/CmktbMkf0Y+a4TtfW81wztbwwiRFkpjIB3CAOj/shAKf8GS4UWBc39SPzi2UwtaDaDobZK1Jm+htVqxTeiHrm5eojf/AD39G4ZRmWEpsfwe2Bl9mkcVn0BikyPsZvuWEO0FzCIEGWlCdiqD+INgzsyMMrPYNYdwMG2wTX3WdmOMveaUfTUTNq8gL3uzdVF0OTfYKk4tGZRNCJSCoMIUVYKI+D5TxhFIyTLPfS0vYuKi/fgCWTT8XoI02477rRVICenAm13BzCq8oqliVvpXxPMvXdxs+08Gow/whfaLe0n2jsYRIiIiEg1DCJERESkGgYRIiIiUg2DCBEREamGQYSIiIhUwyBCREREqmEQISIiItUwiBAREZFqGESIiIhINQwiREREpBoGESIiIlINgwgRUUxL8PV3oaFBRE/vVxAbLsLY/wd21b39iHYBBhEiok1kLLiNOF4mwRuM3ggv6IFUVgHx4Qx4azyi9GEQISLaSP4DtprD0JmfrQkdSxg1v4OcGhsmmUSI0oZBhIhoI78DjbmFaHRMr3lSxryzFXm5H8LhX1ataUR7DYMIEdEG8qgZOqEYoiuw7vmQS4RWqIJlPKhSy4j2HgYRoj1HRsg3hFsGIyTzddRViuh77ER3hwFfXv0TSmruwruo5rmFJfiG7sJguAmz4Rwq2+14PGhGh6ELVyvLUHP3CRZVbB2wEjjiBZHNzxNR6hhEiPaa4FPcu2bDWEgGEIBLLIZw8BM4/fPwShXIKTHCvaBWEJERHLmPa/dHIlefhFwQtRocbOmHP/wE0lsFKDH8jIVUXnrBDam2Enq9PrFHbXfcfmAQIVIOgwjRHhP23MF158vov17AXncIec1OzG/+SQSGe9FplHCzpQY1hh/hC2U6oCzA030TzpUaixk76nKOoNk5s/lHffdRXdqO70amMekyo17Xvvp7GcYgQqQcBhGivWzeiea8Q6izv9j8f4FBXGn9K2ZkRC5N1R1GlXUszqWpSxi1fpzwbEOVYQj+bRsXLf7MOQ/7THjzf/us0AsCBEGA5vAHMA/PKXbZ7NY1Iu/APLqkUEuI9j4GEaI9LOwxoSjmwClj3tmGk8afEZABYBFeqRyCzoxRxc7aLMBj0sX/mz4bROu4Uo1Zz+9AY+7GABfGjP08cnjVDFFaMYgQ7VmRdS+EIhM80QmH5ZFeXPvhBYBl+J2XUJD/ERyzYQAh+KzVELQiXEotHSo/g2QSmnQAAApFSURBVFmnRZHpMcLR9o7c/gt+WJkdSTaIpLFGJLKOSCGOS0+wGjkiYY3riBClF4MI0V4ij8NWexj5jX2YDXog6Q5A0FvhAwB5CgNGCYOzMU6DyJNwXCxCQXN/AqdUdtA837eozX8TjY5JBL0SdBot9NGwIc8OwGgcxOzKIO+7jw9K6yH2WNDTfgFNlsfR2RslhDE7eBXHSoxwr1xhtPgLDCVvc2VVojRjECHaS+TncHacRmmjAV0tHbj7YADmhgsQ7/TA1NkDpy9WbUMYs4MidFVfYTgQI6Sks3lTP6JDV47GLiNaWu7iwQMzGuo7ccdsQqc0sL5YNuDFT55oXcirf8BQVAHT8OaS28w11o+R7zpRW897zRBlEoMI0b4WRmD4Fprav8NIIIjA80kFZx22IiM0PYbfXwejcVj1BWtO4xDRXsEgQrRvhREYvofO248i4UN+BvP5OwoWq27lBex1b6LM/DRSoyH/BkvFodV/E9GewSBCtC/JWPTeQmW+BkL0EllBEOKsN6KGMAKe/4RRNMHcexc3286jwajEOidEpDQGESIiIlINgwgRERGphkGEiIiIVMMgQkRERKphECEiIiLVMIgQERGRahhEiIiISDUMIkRERKQaBhEiIiJSDYMIERFtJgcw/uT3LLn3EO1lDCJEGbMIr+Ui9Ho99JXX4Zzl7dooy8w6IVbqoddX4n2Ld80NBcOYcXyMQ1VWTDCIUIYxiBBlTAAuUQ/RFVjznIyQ728wXGxGe9s5lBe/jUZpMLl7qIRcEEsvo8+3FH0ijMBwD94Xh7CQcluX4OvvQkND6re8D7muo7Tlr6vvRZ7DsPQxxKF/p9wqYAk+x2e42NyGtgunUFx6EdLQRFLtUpw8g4di7YbtnipltkvIJaJQdEVed3EUTutnqDv8BvTibVi/d2OaYYQyiEGEKGM2BxF5dgBXmnoxFpIByAhN2FBfcAAl4k/wJ/plH3JB1AoQ8k+jrceCnqtncaSkHf1TqQ7PMhbcRhwvk+ANRhsR9EAqq4D4cAaJN0uEVtAgv+Iyenq/wtXKYyhp/TumUh7EwpgdNKLp61+jA+8SJmwXUKDRJdUu5YQRGBuCpeUktEJxGoKIcttlXRABgHknmvOqYBkP7vA9EG2PQYQoYzYGkVcYs7RAdM2t+Zl5eEwnIeTUwjqR4Jf+ShARBAhCLg5XGtH/enYkBfIfsNUchs78bM3gtoRR8zvIqbFhMsERLzLgRduleROVhh3eLVceheV9I1wLa14j+BimklzkZN0pg2UE3N+g03QL31ou40Q6goiC22VjEFn2SjheZIKHZxNJAQwiRBmzMYi8gL2uGCeavsXoyhEuZCwNteOAcAh19heJvWzIBbHaCl+6mul3oDG3EI2O6TVPyph3tiIv90M4/MsJNsuAaut4uloFzNhRV6BDk+1XrEa0OQy1FUHIOQ/7TJaOkj4r9OkIIgpul/VBJIwZ+3kcaHTAjyU8H/VhMdX3QJQABhGijNkYRF7C2VwEzbFreBhYHUQiR6xa6BMdxNMcRORRM3QxBs5IuxKfnk97EPH3o7ngAI6JP2G1ZQG4xGIIQjWsviytFElTEFFyu6wPIvNwG8pQYfkNy5N/xadf/LKD2iOi7TGI0B7xCuO2S9CXF0emoTWFKOtyYQEyFlxdKCvMhabwBM7oL8E2/kqhNsUqVt0oMtUuaM7APJLg6ZWQC2J1L8amPfib7T7u2x9gLJD67EBkYIs34CU+oEYGvGeY9vwIm/X/wP7Tv9J/6af8DGZdHjRlZowkNiGgvDQFESW3y8YZkdnBTlQ2dsLY2YvhHexbRIlgEKG9RX6O/tb/gEY4gnrbGEIA5Km/49JZIx76t/tC9cMtnYtcbpvQ4xwkt3+L10sgiCw+gqn0II61D2A2mWLVwpNosQxhLBBEYMSGZt17kIbnUirgTN+AJ6KwtBWWoX8hIPsxYrsEXdVXaRzIZCwOf4HSnBNoH5zOwmLVqKwLIttvl03FqkQKYhChvWfRA3PlGxA05TD8+DdITdfXXOqqpO2CSAD/lCpxsDLJwVoO4PffXq4ZNELwWWugKfgYjhTqJtI14MmBCfw2vaaf5TFYKwtQcLEPM+lIDYvDkCqKUSk9yu5FtrIsiCSyXRhESE0MIrQnyVN/R+uxPAjCYdTbfSodPW8VRMKYHRTTNmMQGZw2FjYmZutahHdgHk01xEXrOZIorIzfyGkMtp9BVbpDyPKvsJ6rSnAG7D0Yhma2f01FakTSu10YREhNDCK0N4XGYGs4Bu0BDTSln8GtynnueEFExqL3Nmpre1ZDSGgGvpcJDCyyD/b6w5tqJCKDUwGqbRPJN9PvQGPuxqt2IldO5CQYIuSp/0J9vhZl5qdY/enogKf5ALapnfR/AF7zBdS+DiEyQi9f4OVOLg3OpLReNaPMdmEQITUxiNDeI89huPsTdPSNYqK/Hcc0GuTXWKOLiG1FiRoRGSHff6Oj6daamRAZS0M3cNmZwNG2PAZr1VuoNP3vmpqS6OCUTMHrutf8A7aaQhyXnqwZrBbhlcoTXq9C9llRdeRdmB6+XDP79AL2ukM7LCxdgq/vOpq6186EzGHoUwOc83s8iCi4XRhESE0MIrTHLGDEchG1Zk907YMFjFhqkS/kJbd6aVrEWFk18AhS1Wk03rwHq9UafXwDqfEcJO8igGUEXCacKr2A3pFYF02GMGkXcck+vjpohH6FpbIwuYLXdcKYHbyKYyVGuBejL7D4Cwwlb69ZwXObdskTsF8SYX9diyMjNPY1KnN3UlgaRmD4K1TpLuJmr3VNf/0FjWe/gnePXzWj5HZJNIjIs4MwVJ7BOeszcM1VShcGEdoj5uAyfRC9fDcfxQ3fYlyOPt91BoUaAYKQj+LyKjTZ/qVQzcjGIDKLh2IpNCurXK59vF6gK4QpeyPyhRwUmR4j5gkNeQ7e+5+iproRbVc/Rk3FWTTfeoipHa1i6sfId52orY93T5Pt2yUHnuB++weobryMq821qNC34pbrRepH2YGfIB7L29xXgoCcOjsSmD9S1PK4AzfEq2irK4VWyMVh/Ye4Khpgce/gXjsKbZeEg4jvW9TmH0CJ4WeuLUJpwyBClDGJrCMSR8gFgyELp8qztV373Q63C0/NkJoYRIgyJvUgIo/fh5hK4WmGZWu79rudbhcGEVITgwhRxqQaRF5h7F4X7id6EzzFZGu79rudbxcGEVITgwhRxqQWROTJH/GXe0+y7kZj2dqu/S4d24VBhNTEIEKUMYvwWi5GLvWtvA7nLO/ZQVlm1gmxUg+9vhLvW7yxi6OJMoxBhIiIiFTDIEJERESqYRAhIiIi1TCIEBERkWoYRIiIiEg1DCJERESkGgYRIiIiUg2DCBEREamGQYSIiIhUwyBCREREqmEQISIiItUwiBAREZFqGESIiIhINQwiREREpBoGESIiIlINgwgRERGphkGEiIiIVMMgQkRERKphECEiIiLVMIgQERGRahhEiIiISDX/H/Pxuvg5POFdAAAAAElFTkSuQmCC)\n",
        "\n"
      ]
    },
    {
      "cell_type": "code",
      "metadata": {
        "id": "eqc8N9JUW__H",
        "outputId": "f86cce66-0d11-4891-f932-212c233e8a28",
        "colab": {
          "base_uri": "https://localhost:8080/"
        }
      },
      "source": [
        "penality_method(f5,x5,h5,[],quasi_newton_BFGS,newton)"
      ],
      "execution_count": 36,
      "outputs": [
        {
          "output_type": "execute_result",
          "data": {
            "text/plain": [
              "(3.4512664603419266e-31, [0.9999999999999998, 1.0, 0.9999999999999997, 1.0000000000000002, 1.0000000000000002])"
            ]
          },
          "metadata": {
            "tags": []
          },
          "execution_count": 36
        }
      ]
    },
    {
      "cell_type": "markdown",
      "metadata": {
        "id": "as3fRJOxXARF"
      },
      "source": [
        "3.\n",
        "\n",
        "![image.png](data:image/png;base64,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)\n",
        "\n"
      ]
    },
    {
      "cell_type": "code",
      "metadata": {
        "id": "RBL10guZXAnG",
        "outputId": "2cb1fc50-0af2-4a81-abdb-fe6dd75faac0",
        "colab": {
          "base_uri": "https://localhost:8080/"
        }
      },
      "source": [
        "penality_method(f6,x6,h6,g6,quasi_newton_BFGS,secao_aurea)"
      ],
      "execution_count": 37,
      "outputs": [
        {
          "output_type": "execute_result",
          "data": {
            "text/plain": [
              "(0.015524335384016067, [0.8237947044538988, 0.9115954459735927])"
            ]
          },
          "metadata": {
            "tags": []
          },
          "execution_count": 37
        }
      ]
    },
    {
      "cell_type": "markdown",
      "metadata": {
        "id": "vNYKeiLzXA6r"
      },
      "source": [
        "## Ambos os Métodos"
      ]
    },
    {
      "cell_type": "markdown",
      "metadata": {
        "id": "tH5Uh--VZV5_"
      },
      "source": [
        "1.\n",
        "\n",
        "![image.png](data:image/png;base64,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)\n"
      ]
    },
    {
      "cell_type": "code",
      "metadata": {
        "id": "Xra2ftSRXBEI",
        "outputId": "e8eed3bf-5ae9-48f5-b50a-563bb7767019",
        "colab": {
          "base_uri": "https://localhost:8080/"
        }
      },
      "source": [
        "barrier_method(f7,x7,g7,quasi_newton_BFGS,newton)"
      ],
      "execution_count": 91,
      "outputs": [
        {
          "output_type": "execute_result",
          "data": {
            "text/plain": [
              "(16.000099265018427, [1.0000174453450508, 4.999976082241852, 4.999818012764078, 1.0000252560280707])"
            ]
          },
          "metadata": {
            "tags": []
          },
          "execution_count": 91
        }
      ]
    },
    {
      "cell_type": "code",
      "metadata": {
        "id": "hnPsJW-t25nR",
        "outputId": "e4749aa5-820c-4bd5-e84d-509c7b633e8e",
        "colab": {
          "base_uri": "https://localhost:8080/"
        }
      },
      "source": [
        "penality_method(f7,x7,[],g7,quasi_newton_BFGS,armijo,p=4)"
      ],
      "execution_count": 39,
      "outputs": [
        {
          "output_type": "execute_result",
          "data": {
            "text/plain": [
              "(15.99973856766942, [0.9999022126381514, 5.000117340918883, 5.000019553691205, 1.0000686947946014])"
            ]
          },
          "metadata": {
            "tags": []
          },
          "execution_count": 39
        }
      ]
    },
    {
      "cell_type": "markdown",
      "metadata": {
        "id": "y_oMf1rrXBNH"
      },
      "source": [
        "2.\n",
        "\n",
        "\n",
        "![image.png](data:image/png;base64,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)"
      ]
    },
    {
      "cell_type": "code",
      "metadata": {
        "id": "QiJ9gLVnXBUe",
        "outputId": "c116d4b0-9ff5-4e1b-9773-6599e7379874",
        "colab": {
          "base_uri": "https://localhost:8080/"
        }
      },
      "source": [
        "barrier_method(f8,x8,g8,gradient_descent,armijo)"
      ],
      "execution_count": 40,
      "outputs": [
        {
          "output_type": "execute_result",
          "data": {
            "text/plain": [
              "(-14.999913487178183, [4.0780811140272565e-6, 2.9999942440262277, 6.448085102265769e-6, 3.9999918511597574])"
            ]
          },
          "metadata": {
            "tags": []
          },
          "execution_count": 40
        }
      ]
    },
    {
      "cell_type": "code",
      "metadata": {
        "id": "VnMrQvHs4pJK",
        "outputId": "956258af-e50a-4d16-9b47-7a4420e286e8",
        "colab": {
          "base_uri": "https://localhost:8080/"
        }
      },
      "source": [
        "penality_method(f8,x8,[],g8,gradient_descent,armijo,tol=1e-9,p=3)"
      ],
      "execution_count": 41,
      "outputs": [
        {
          "output_type": "execute_result",
          "data": {
            "text/plain": [
              "(-15.000000001723823, [-1.62829122674867e-10, 3.0000000001279696, -6.513106214271318e-11, 4.000000000046522])"
            ]
          },
          "metadata": {
            "tags": []
          },
          "execution_count": 41
        }
      ]
    },
    {
      "cell_type": "markdown",
      "metadata": {
        "id": "Kt7ZnzPCXBdt"
      },
      "source": [
        "3.\n",
        "\n",
        "![image.png](data:image/png;base64,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)"
      ]
    },
    {
      "cell_type": "code",
      "metadata": {
        "id": "QPblv-ptXBlB",
        "outputId": "473c00aa-6c87-4701-ec76-553f0eb0209e",
        "colab": {
          "base_uri": "https://localhost:8080/"
        }
      },
      "source": [
        "barrier_method(f9,x9,g9,(f,x,linear)->gradient_descent(f,x,linear,n_iter=1000),armijo)"
      ],
      "execution_count": 88,
      "outputs": [
        {
          "output_type": "execute_result",
          "data": {
            "text/plain": [
              "(674.1390295538063, [2.465679335714826, 1.9753209346719036, -0.3282248111825475, 4.435084763984302, -0.621121046567633, 0.9520938424796459, 1.6895143166051672])"
            ]
          },
          "metadata": {
            "tags": []
          },
          "execution_count": 88
        }
      ]
    },
    {
      "cell_type": "code",
      "metadata": {
        "id": "Z13iYW3hzLtq",
        "outputId": "c428c1ba-38fb-497d-baf7-03f2c6b71908",
        "colab": {
          "base_uri": "https://localhost:8080/"
        }
      },
      "source": [
        "penality_method(f9,x9,[],g9,(f,x,linear)->gradient_descent(f,x,linear,n_iter=1000),armijo)"
      ],
      "execution_count": 89,
      "outputs": [
        {
          "output_type": "execute_result",
          "data": {
            "text/plain": [
              "(674.1400600069386, [2.475421589145944, 1.9734934461136917, -0.34341888707112844, 4.438967626657365, -0.6214968094293873, 0.9465688823024578, 1.701683835261642])"
            ]
          },
          "metadata": {
            "tags": []
          },
          "execution_count": 89
        }
      ]
    },
    {
      "cell_type": "markdown",
      "metadata": {
        "id": "b0dbN--pEjql"
      },
      "source": [
        "#Referências\n",
        " $[1]$ **Ademir A.R.** e **Elizabeth W.K.** (2011). *Um Curso De Otimização. Curitiba.*"
      ]
    }
  ]
}